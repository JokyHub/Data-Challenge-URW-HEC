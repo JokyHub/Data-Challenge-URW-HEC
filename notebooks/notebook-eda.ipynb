{
 "cells": [
  {
   "cell_type": "markdown",
   "metadata": {},
   "source": [
    "### Exploratory Analysis"
   ]
  },
  {
   "cell_type": "code",
   "execution_count": 28,
   "metadata": {},
   "outputs": [],
   "source": [
    "import numpy as np\n",
    "import pandas as pd\n",
    "import matplotlib.pyplot as plt\n",
    "import seaborn as sns\n",
    "\n",
    "import os\n"
   ]
  },
  {
   "cell_type": "code",
   "execution_count": null,
   "metadata": {},
   "outputs": [],
   "source": [
    "cost_data = pd.read_csv('cost.csv', index_col=0)\n",
    "cost_data = cost_data.drop_duplicates()\n",
    "\n",
    "#simple test\n"
   ]
  },
  {
   "cell_type": "code",
   "execution_count": null,
   "metadata": {},
   "outputs": [],
   "source": []
  },
  {
   "cell_type": "code",
   "execution_count": null,
   "metadata": {},
   "outputs": [],
   "source": [
    "dwell_time_data = pd.read_csv('raw data\\\\dwell_time.csv', index_col=0)\n",
    "dwell_time_data = dwell_time_data.drop_duplicates()\n",
    "\n",
    "mall_data = pd.read_csv('raw data\\\\mall.csv', index_col=0)\n",
    "mall_data = mall_data.drop_duplicates()\n",
    "\n",
    "people_data = pd.read_csv('raw data\\\\people.csv', index_col=0)\n",
    "people_data = people_data.drop_duplicates()\n",
    "\n",
    "referentiel_traffic_data = pd.read_csv('raw data\\\\referentiel_traffic.csv', index_col=0)\n",
    "referentiel_traffic_data = referentiel_traffic_data.drop_duplicates()\n",
    "\n",
    "store_data = pd.read_csv('raw data\\\\store.csv', index_col=0)\n",
    "store_data = store_data.drop_duplicates()"
   ]
  },
  {
   "cell_type": "code",
   "execution_count": null,
   "metadata": {},
   "outputs": [],
   "source": []
  }
 ],
 "metadata": {
  "kernelspec": {
   "display_name": "Python 3",
   "language": "python",
   "name": "python3"
  },
  "language_info": {
   "codemirror_mode": {
    "name": "ipython",
    "version": 3
   },
   "file_extension": ".py",
   "mimetype": "text/x-python",
   "name": "python",
   "nbconvert_exporter": "python",
   "pygments_lexer": "ipython3",
   "version": "3.12.6"
  }
 },
 "nbformat": 4,
 "nbformat_minor": 2
}
