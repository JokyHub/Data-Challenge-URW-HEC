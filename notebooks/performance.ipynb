{
 "cells": [
  {
   "cell_type": "code",
   "execution_count": 1,
   "metadata": {},
   "outputs": [],
   "source": [
    "import pandas as pd\n",
    "import os"
   ]
  },
  {
   "cell_type": "code",
   "execution_count": 2,
   "metadata": {},
   "outputs": [
    {
     "name": "stdout",
     "output_type": "stream",
     "text": [
      "/Users/kumo/hec/courses/data_challenge_uw/Data-Challenge-URW-HEC/notebooks\n",
      "/Users/kumo/hec/courses/data_challenge_uw/Data-Challenge-URW-HEC/raw_data\n"
     ]
    }
   ],
   "source": [
    "print(os.getcwd())\n",
    "os.chdir('../raw_data')\n",
    "print(os.getcwd())"
   ]
  },
  {
   "cell_type": "code",
   "execution_count": 4,
   "metadata": {},
   "outputs": [
    {
     "data": {
      "text/html": [
       "<div>\n",
       "<style scoped>\n",
       "    .dataframe tbody tr th:only-of-type {\n",
       "        vertical-align: middle;\n",
       "    }\n",
       "\n",
       "    .dataframe tbody tr th {\n",
       "        vertical-align: top;\n",
       "    }\n",
       "\n",
       "    .dataframe thead th {\n",
       "        text-align: right;\n",
       "    }\n",
       "</style>\n",
       "<table border=\"1\" class=\"dataframe\">\n",
       "  <thead>\n",
       "    <tr style=\"text-align: right;\">\n",
       "      <th></th>\n",
       "      <th>Unnamed: 0</th>\n",
       "      <th>external_mall_id</th>\n",
       "      <th>block_id</th>\n",
       "      <th>average_dwell_time</th>\n",
       "      <th>median_dwell_time</th>\n",
       "      <th>store_id</th>\n",
       "      <th>store_visits_monthly_average</th>\n",
       "      <th>store_window_flow_monthly_average</th>\n",
       "      <th>store_visits_daily_average</th>\n",
       "      <th>store_window_flow_daily_average</th>\n",
       "      <th>...</th>\n",
       "      <th>store_branch_level_1</th>\n",
       "      <th>store_branch_level_2</th>\n",
       "      <th>store_branch_level_3</th>\n",
       "      <th>store_sales_r12m</th>\n",
       "      <th>store_rent_r12m</th>\n",
       "      <th>store_area</th>\n",
       "      <th>service_charges_r12m</th>\n",
       "      <th>marketing_costs_r12m</th>\n",
       "      <th>real_estate_taxes_r12m</th>\n",
       "      <th>maintenance_works_r12m</th>\n",
       "    </tr>\n",
       "  </thead>\n",
       "  <tbody>\n",
       "    <tr>\n",
       "      <th>0</th>\n",
       "      <td>0</td>\n",
       "      <td>18</td>\n",
       "      <td>11273</td>\n",
       "      <td>249.520051</td>\n",
       "      <td>180.0</td>\n",
       "      <td>9257.0</td>\n",
       "      <td>9810.25</td>\n",
       "      <td>472952.50</td>\n",
       "      <td>509.62</td>\n",
       "      <td>24568.96</td>\n",
       "      <td>...</td>\n",
       "      <td>Jewellery</td>\n",
       "      <td>Jewellery &amp; Watches</td>\n",
       "      <td>Modern Jewellery &amp; Watches</td>\n",
       "      <td>886377.00</td>\n",
       "      <td>NaN</td>\n",
       "      <td>104.0</td>\n",
       "      <td>25034.0</td>\n",
       "      <td>0.0</td>\n",
       "      <td>11957.0</td>\n",
       "      <td>6337.0</td>\n",
       "    </tr>\n",
       "    <tr>\n",
       "      <th>1</th>\n",
       "      <td>1</td>\n",
       "      <td>18</td>\n",
       "      <td>11271</td>\n",
       "      <td>190.005359</td>\n",
       "      <td>120.0</td>\n",
       "      <td>9443.0</td>\n",
       "      <td>4891.25</td>\n",
       "      <td>362107.00</td>\n",
       "      <td>254.09</td>\n",
       "      <td>18810.75</td>\n",
       "      <td>...</td>\n",
       "      <td>Fashion apparel</td>\n",
       "      <td>Family Fashion</td>\n",
       "      <td>Family Fashion</td>\n",
       "      <td>20883319.00</td>\n",
       "      <td>NaN</td>\n",
       "      <td>203.0</td>\n",
       "      <td>33465.0</td>\n",
       "      <td>0.0</td>\n",
       "      <td>11957.0</td>\n",
       "      <td>6337.0</td>\n",
       "    </tr>\n",
       "    <tr>\n",
       "      <th>2</th>\n",
       "      <td>2</td>\n",
       "      <td>17</td>\n",
       "      <td>4319</td>\n",
       "      <td>1325.216860</td>\n",
       "      <td>780.0</td>\n",
       "      <td>5697.0</td>\n",
       "      <td>1981.23</td>\n",
       "      <td>280719.08</td>\n",
       "      <td>70.37</td>\n",
       "      <td>9970.90</td>\n",
       "      <td>...</td>\n",
       "      <td>Services</td>\n",
       "      <td>Imaterial services</td>\n",
       "      <td>Travel Agency</td>\n",
       "      <td>2339819.57</td>\n",
       "      <td>140492.0</td>\n",
       "      <td>72.0</td>\n",
       "      <td>18000.0</td>\n",
       "      <td>980.0</td>\n",
       "      <td>11957.0</td>\n",
       "      <td>6337.0</td>\n",
       "    </tr>\n",
       "    <tr>\n",
       "      <th>3</th>\n",
       "      <td>3</td>\n",
       "      <td>36</td>\n",
       "      <td>1201</td>\n",
       "      <td>621.422549</td>\n",
       "      <td>240.0</td>\n",
       "      <td>7179.0</td>\n",
       "      <td>29753.50</td>\n",
       "      <td>751216.75</td>\n",
       "      <td>1226.95</td>\n",
       "      <td>30978.01</td>\n",
       "      <td>...</td>\n",
       "      <td>Food &amp; Beverage Services</td>\n",
       "      <td>Sweet moments</td>\n",
       "      <td>Confectionery</td>\n",
       "      <td>1129538.00</td>\n",
       "      <td>89064.0</td>\n",
       "      <td>107.0</td>\n",
       "      <td>80035.0</td>\n",
       "      <td>5038.0</td>\n",
       "      <td>11957.0</td>\n",
       "      <td>24846.0</td>\n",
       "    </tr>\n",
       "    <tr>\n",
       "      <th>4</th>\n",
       "      <td>4</td>\n",
       "      <td>36</td>\n",
       "      <td>1212</td>\n",
       "      <td>217.833860</td>\n",
       "      <td>120.0</td>\n",
       "      <td>7288.0</td>\n",
       "      <td>6082.50</td>\n",
       "      <td>357884.00</td>\n",
       "      <td>253.44</td>\n",
       "      <td>14911.83</td>\n",
       "      <td>...</td>\n",
       "      <td>Fashion apparel</td>\n",
       "      <td>Men's Fashion</td>\n",
       "      <td>Men's Fashion</td>\n",
       "      <td>340091.00</td>\n",
       "      <td>2181010.0</td>\n",
       "      <td>208.0</td>\n",
       "      <td>69226.0</td>\n",
       "      <td>0.0</td>\n",
       "      <td>11957.0</td>\n",
       "      <td>6337.0</td>\n",
       "    </tr>\n",
       "  </tbody>\n",
       "</table>\n",
       "<p>5 rows × 30 columns</p>\n",
       "</div>"
      ],
      "text/plain": [
       "   Unnamed: 0  external_mall_id  block_id  average_dwell_time  \\\n",
       "0           0                18     11273          249.520051   \n",
       "1           1                18     11271          190.005359   \n",
       "2           2                17      4319         1325.216860   \n",
       "3           3                36      1201          621.422549   \n",
       "4           4                36      1212          217.833860   \n",
       "\n",
       "   median_dwell_time  store_id  store_visits_monthly_average  \\\n",
       "0              180.0    9257.0                       9810.25   \n",
       "1              120.0    9443.0                       4891.25   \n",
       "2              780.0    5697.0                       1981.23   \n",
       "3              240.0    7179.0                      29753.50   \n",
       "4              120.0    7288.0                       6082.50   \n",
       "\n",
       "   store_window_flow_monthly_average  store_visits_daily_average  \\\n",
       "0                          472952.50                      509.62   \n",
       "1                          362107.00                      254.09   \n",
       "2                          280719.08                       70.37   \n",
       "3                          751216.75                     1226.95   \n",
       "4                          357884.00                      253.44   \n",
       "\n",
       "   store_window_flow_daily_average  ...      store_branch_level_1  \\\n",
       "0                         24568.96  ...                 Jewellery   \n",
       "1                         18810.75  ...           Fashion apparel   \n",
       "2                          9970.90  ...                  Services   \n",
       "3                         30978.01  ...  Food & Beverage Services   \n",
       "4                         14911.83  ...           Fashion apparel   \n",
       "\n",
       "   store_branch_level_2        store_branch_level_3 store_sales_r12m  \\\n",
       "0   Jewellery & Watches  Modern Jewellery & Watches        886377.00   \n",
       "1        Family Fashion              Family Fashion      20883319.00   \n",
       "2    Imaterial services               Travel Agency       2339819.57   \n",
       "3         Sweet moments               Confectionery       1129538.00   \n",
       "4         Men's Fashion               Men's Fashion        340091.00   \n",
       "\n",
       "  store_rent_r12m  store_area  service_charges_r12m marketing_costs_r12m  \\\n",
       "0             NaN       104.0               25034.0                  0.0   \n",
       "1             NaN       203.0               33465.0                  0.0   \n",
       "2        140492.0        72.0               18000.0                980.0   \n",
       "3         89064.0       107.0               80035.0               5038.0   \n",
       "4       2181010.0       208.0               69226.0                  0.0   \n",
       "\n",
       "  real_estate_taxes_r12m maintenance_works_r12m  \n",
       "0                11957.0                 6337.0  \n",
       "1                11957.0                 6337.0  \n",
       "2                11957.0                 6337.0  \n",
       "3                11957.0                24846.0  \n",
       "4                11957.0                 6337.0  \n",
       "\n",
       "[5 rows x 30 columns]"
      ]
     },
     "execution_count": 4,
     "metadata": {},
     "output_type": "execute_result"
    }
   ],
   "source": [
    "data = pd.read_csv('cleaned_data.csv')\n",
    "data.head(5)"
   ]
  },
  {
   "cell_type": "markdown",
   "metadata": {},
   "source": [
    "# metrics"
   ]
  },
  {
   "cell_type": "markdown",
   "metadata": {},
   "source": [
    "## trafic"
   ]
  },
  {
   "cell_type": "markdown",
   "metadata": {},
   "source": [
    "- marketing efficiency = Window Flow/marketing cost\n",
    "- Visit Rate: Visitor Count / Window Flow Count"
   ]
  },
  {
   "cell_type": "markdown",
   "metadata": {},
   "source": [
    "make it based on month"
   ]
  },
  {
   "cell_type": "code",
   "execution_count": 5,
   "metadata": {},
   "outputs": [
    {
     "data": {
      "text/plain": [
       "Index(['Unnamed: 0', 'external_mall_id', 'block_id', 'average_dwell_time',\n",
       "       'median_dwell_time', 'store_id', 'store_visits_monthly_average',\n",
       "       'store_window_flow_monthly_average', 'store_visits_daily_average',\n",
       "       'store_window_flow_daily_average', 'store_total_visits',\n",
       "       'store_total_window_flow', 'days_with_traffic_data', 'mall_name',\n",
       "       'mall_country', 'mall_id', 'total_mall_area', 'store_name',\n",
       "       'store_year_opened', 'store_year_closed', 'store_branch_level_1',\n",
       "       'store_branch_level_2', 'store_branch_level_3', 'store_sales_r12m',\n",
       "       'store_rent_r12m', 'store_area', 'service_charges_r12m',\n",
       "       'marketing_costs_r12m', 'real_estate_taxes_r12m',\n",
       "       'maintenance_works_r12m'],\n",
       "      dtype='object')"
      ]
     },
     "execution_count": 5,
     "metadata": {},
     "output_type": "execute_result"
    }
   ],
   "source": [
    "data.columns"
   ]
  },
  {
   "cell_type": "code",
   "execution_count": 6,
   "metadata": {},
   "outputs": [],
   "source": [
    "identity = ['store_id', 'block_id', 'mall_id', 'external_mall_id']\n",
    "metrics = data[identity]"
   ]
  },
  {
   "cell_type": "code",
   "execution_count": 7,
   "metadata": {},
   "outputs": [
    {
     "name": "stderr",
     "output_type": "stream",
     "text": [
      "/var/folders/z9/zf5v62yj5_75v0dwqpq9c7nw0000gn/T/ipykernel_84205/1346066364.py:2: SettingWithCopyWarning: \n",
      "A value is trying to be set on a copy of a slice from a DataFrame.\n",
      "Try using .loc[row_indexer,col_indexer] = value instead\n",
      "\n",
      "See the caveats in the documentation: https://pandas.pydata.org/pandas-docs/stable/user_guide/indexing.html#returning-a-view-versus-a-copy\n",
      "  metrics['mkt_effc'] = data['store_window_flow_monthly_average']/(data['marketing_costs_r12m']/12)\n"
     ]
    }
   ],
   "source": [
    "# marketing efficiency\n",
    "metrics['mkt_effc'] = data['store_window_flow_monthly_average']/(data['marketing_costs_r12m']/12) "
   ]
  },
  {
   "cell_type": "code",
   "execution_count": 8,
   "metadata": {},
   "outputs": [
    {
     "name": "stderr",
     "output_type": "stream",
     "text": [
      "/var/folders/z9/zf5v62yj5_75v0dwqpq9c7nw0000gn/T/ipykernel_84205/1795006489.py:3: SettingWithCopyWarning: \n",
      "A value is trying to be set on a copy of a slice from a DataFrame.\n",
      "Try using .loc[row_indexer,col_indexer] = value instead\n",
      "\n",
      "See the caveats in the documentation: https://pandas.pydata.org/pandas-docs/stable/user_guide/indexing.html#returning-a-view-versus-a-copy\n",
      "  metrics['monthly_visit/window'] = data['store_visits_monthly_average'] / data['store_window_flow_monthly_average']\n",
      "/var/folders/z9/zf5v62yj5_75v0dwqpq9c7nw0000gn/T/ipykernel_84205/1795006489.py:4: SettingWithCopyWarning: \n",
      "A value is trying to be set on a copy of a slice from a DataFrame.\n",
      "Try using .loc[row_indexer,col_indexer] = value instead\n",
      "\n",
      "See the caveats in the documentation: https://pandas.pydata.org/pandas-docs/stable/user_guide/indexing.html#returning-a-view-versus-a-copy\n",
      "  metrics['daily_visit/window'] = data['store_visits_daily_average'] / data['store_window_flow_daily_average']\n",
      "/var/folders/z9/zf5v62yj5_75v0dwqpq9c7nw0000gn/T/ipykernel_84205/1795006489.py:5: SettingWithCopyWarning: \n",
      "A value is trying to be set on a copy of a slice from a DataFrame.\n",
      "Try using .loc[row_indexer,col_indexer] = value instead\n",
      "\n",
      "See the caveats in the documentation: https://pandas.pydata.org/pandas-docs/stable/user_guide/indexing.html#returning-a-view-versus-a-copy\n",
      "  metrics['total_visit/window'] = data['store_total_visits'] / data['store_total_window_flow']\n"
     ]
    }
   ],
   "source": [
    "# visit rate\n",
    "# there are monthly, daily and total \n",
    "metrics['monthly_visit/window'] = data['store_visits_monthly_average'] / data['store_window_flow_monthly_average']\n",
    "metrics['daily_visit/window'] = data['store_visits_daily_average'] / data['store_window_flow_daily_average']\n",
    "metrics['total_visit/window'] = data['store_total_visits'] / data['store_total_window_flow']"
   ]
  },
  {
   "cell_type": "code",
   "execution_count": 9,
   "metadata": {},
   "outputs": [
    {
     "name": "stderr",
     "output_type": "stream",
     "text": [
      "/var/folders/z9/zf5v62yj5_75v0dwqpq9c7nw0000gn/T/ipykernel_84205/1917769999.py:3: SettingWithCopyWarning: \n",
      "A value is trying to be set on a copy of a slice from a DataFrame\n",
      "\n",
      "See the caveats in the documentation: https://pandas.pydata.org/pandas-docs/stable/user_guide/indexing.html#returning-a-view-versus-a-copy\n",
      "  metrics.drop(['daily_visit/window', 'total_visit/window'], axis=1, inplace=True)\n",
      "/var/folders/z9/zf5v62yj5_75v0dwqpq9c7nw0000gn/T/ipykernel_84205/1917769999.py:4: SettingWithCopyWarning: \n",
      "A value is trying to be set on a copy of a slice from a DataFrame\n",
      "\n",
      "See the caveats in the documentation: https://pandas.pydata.org/pandas-docs/stable/user_guide/indexing.html#returning-a-view-versus-a-copy\n",
      "  metrics.rename(columns={'monthly_visit/window':'visit_rate'}, inplace=True)\n"
     ]
    }
   ],
   "source": [
    "metrics.head(10)\n",
    "# since they are almost the same, we only keep one\n",
    "metrics.drop(['daily_visit/window', 'total_visit/window'], axis=1, inplace=True)\n",
    "metrics.rename(columns={'monthly_visit/window':'visit_rate'}, inplace=True)"
   ]
  },
  {
   "cell_type": "markdown",
   "metadata": {},
   "source": [
    "## Sales"
   ]
  },
  {
   "cell_type": "code",
   "execution_count": 10,
   "metadata": {},
   "outputs": [
    {
     "name": "stderr",
     "output_type": "stream",
     "text": [
      "/var/folders/z9/zf5v62yj5_75v0dwqpq9c7nw0000gn/T/ipykernel_84205/2476251328.py:3: SettingWithCopyWarning: \n",
      "A value is trying to be set on a copy of a slice from a DataFrame.\n",
      "Try using .loc[row_indexer,col_indexer] = value instead\n",
      "\n",
      "See the caveats in the documentation: https://pandas.pydata.org/pandas-docs/stable/user_guide/indexing.html#returning-a-view-versus-a-copy\n",
      "  metrics['RPV'] = (data['store_sales_r12m']/12)/data['store_visits_monthly_average']\n"
     ]
    }
   ],
   "source": [
    "# revenue per visit\n",
    "# time unit, month\n",
    "metrics['RPV'] = (data['store_sales_r12m']/12)/data['store_visits_monthly_average']"
   ]
  },
  {
   "cell_type": "code",
   "execution_count": null,
   "metadata": {},
   "outputs": [
    {
     "name": "stderr",
     "output_type": "stream",
     "text": [
      "/var/folders/z9/zf5v62yj5_75v0dwqpq9c7nw0000gn/T/ipykernel_84205/156298708.py:3: SettingWithCopyWarning: \n",
      "A value is trying to be set on a copy of a slice from a DataFrame.\n",
      "Try using .loc[row_indexer,col_indexer] = value instead\n",
      "\n",
      "See the caveats in the documentation: https://pandas.pydata.org/pandas-docs/stable/user_guide/indexing.html#returning-a-view-versus-a-copy\n",
      "  metrics['RPM'] = (data['store_sales_r12m']/12)/data['store_area']\n"
     ]
    }
   ],
   "source": [
    "# revenue per m2\n",
    "# RPM \n",
    "metrics['RPM'] = (data['store_sales_r12m']/12)/data['store_area']"
   ]
  },
  {
   "cell_type": "code",
   "execution_count": 12,
   "metadata": {},
   "outputs": [
    {
     "name": "stderr",
     "output_type": "stream",
     "text": [
      "/var/folders/z9/zf5v62yj5_75v0dwqpq9c7nw0000gn/T/ipykernel_84205/3354451396.py:2: SettingWithCopyWarning: \n",
      "A value is trying to be set on a copy of a slice from a DataFrame.\n",
      "Try using .loc[row_indexer,col_indexer] = value instead\n",
      "\n",
      "See the caveats in the documentation: https://pandas.pydata.org/pandas-docs/stable/user_guide/indexing.html#returning-a-view-versus-a-copy\n",
      "  metrics['RE'] = data['store_sales_r12m']/data['store_rent_r12m']\n"
     ]
    }
   ],
   "source": [
    "# Rvenue efficiency\n",
    "metrics['RE'] = data['store_sales_r12m']/data['store_rent_r12m']"
   ]
  },
  {
   "cell_type": "markdown",
   "metadata": {},
   "source": [
    "## cost"
   ]
  },
  {
   "cell_type": "code",
   "execution_count": 15,
   "metadata": {},
   "outputs": [],
   "source": [
    "data['total_costs_r12m'] = (data['service_charges_r12m'] +\n",
    "                              data['marketing_costs_r12m'] +\n",
    "                              data['real_estate_taxes_r12m'] +\n",
    "                              data['maintenance_works_r12m'])"
   ]
  },
  {
   "cell_type": "code",
   "execution_count": 16,
   "metadata": {},
   "outputs": [
    {
     "name": "stderr",
     "output_type": "stream",
     "text": [
      "/var/folders/z9/zf5v62yj5_75v0dwqpq9c7nw0000gn/T/ipykernel_84205/4174579882.py:2: SettingWithCopyWarning: \n",
      "A value is trying to be set on a copy of a slice from a DataFrame.\n",
      "Try using .loc[row_indexer,col_indexer] = value instead\n",
      "\n",
      "See the caveats in the documentation: https://pandas.pydata.org/pandas-docs/stable/user_guide/indexing.html#returning-a-view-versus-a-copy\n",
      "  metrics['CPM'] = (data['total_costs_r12m']/12)/data['store_area']\n",
      "/var/folders/z9/zf5v62yj5_75v0dwqpq9c7nw0000gn/T/ipykernel_84205/4174579882.py:4: SettingWithCopyWarning: \n",
      "A value is trying to be set on a copy of a slice from a DataFrame.\n",
      "Try using .loc[row_indexer,col_indexer] = value instead\n",
      "\n",
      "See the caveats in the documentation: https://pandas.pydata.org/pandas-docs/stable/user_guide/indexing.html#returning-a-view-versus-a-copy\n",
      "  metrics['PM'] = (data['store_sales_r12m']-data['total_costs_r12m'])/data['store_sales_r12m']\n"
     ]
    }
   ],
   "source": [
    "# cost per m2\n",
    "metrics['CPM'] = (data['total_costs_r12m']/12)/data['store_area']\n",
    "# profit margin \n",
    "metrics['PM'] = (data['store_sales_r12m']-data['total_costs_r12m'])/data['store_sales_r12m']"
   ]
  },
  {
   "cell_type": "code",
   "execution_count": 17,
   "metadata": {},
   "outputs": [
    {
     "data": {
      "text/html": [
       "<div>\n",
       "<style scoped>\n",
       "    .dataframe tbody tr th:only-of-type {\n",
       "        vertical-align: middle;\n",
       "    }\n",
       "\n",
       "    .dataframe tbody tr th {\n",
       "        vertical-align: top;\n",
       "    }\n",
       "\n",
       "    .dataframe thead th {\n",
       "        text-align: right;\n",
       "    }\n",
       "</style>\n",
       "<table border=\"1\" class=\"dataframe\">\n",
       "  <thead>\n",
       "    <tr style=\"text-align: right;\">\n",
       "      <th></th>\n",
       "      <th>store_id</th>\n",
       "      <th>block_id</th>\n",
       "      <th>mall_id</th>\n",
       "      <th>external_mall_id</th>\n",
       "      <th>mkt_effc</th>\n",
       "      <th>visit_rate</th>\n",
       "      <th>RPV</th>\n",
       "      <th>RPM</th>\n",
       "      <th>RE</th>\n",
       "      <th>CPM</th>\n",
       "      <th>PM</th>\n",
       "    </tr>\n",
       "  </thead>\n",
       "  <tbody>\n",
       "    <tr>\n",
       "      <th>0</th>\n",
       "      <td>9257.0</td>\n",
       "      <td>11273</td>\n",
       "      <td>54.0</td>\n",
       "      <td>18</td>\n",
       "      <td>inf</td>\n",
       "      <td>0.020743</td>\n",
       "      <td>7.529344</td>\n",
       "      <td>710.237981</td>\n",
       "      <td>NaN</td>\n",
       "      <td>34.717949</td>\n",
       "      <td>0.951118</td>\n",
       "    </tr>\n",
       "    <tr>\n",
       "      <th>1</th>\n",
       "      <td>9443.0</td>\n",
       "      <td>11271</td>\n",
       "      <td>54.0</td>\n",
       "      <td>18</td>\n",
       "      <td>inf</td>\n",
       "      <td>0.013508</td>\n",
       "      <td>355.793833</td>\n",
       "      <td>8572.791051</td>\n",
       "      <td>NaN</td>\n",
       "      <td>21.247537</td>\n",
       "      <td>0.997522</td>\n",
       "    </tr>\n",
       "    <tr>\n",
       "      <th>2</th>\n",
       "      <td>5697.0</td>\n",
       "      <td>4319</td>\n",
       "      <td>15.0</td>\n",
       "      <td>17</td>\n",
       "      <td>3437.376490</td>\n",
       "      <td>0.007058</td>\n",
       "      <td>98.416117</td>\n",
       "      <td>2708.124502</td>\n",
       "      <td>16.654468</td>\n",
       "      <td>43.141204</td>\n",
       "      <td>0.984070</td>\n",
       "    </tr>\n",
       "    <tr>\n",
       "      <th>3</th>\n",
       "      <td>7179.0</td>\n",
       "      <td>1201</td>\n",
       "      <td>35.0</td>\n",
       "      <td>36</td>\n",
       "      <td>1789.321358</td>\n",
       "      <td>0.039607</td>\n",
       "      <td>3.163600</td>\n",
       "      <td>879.702492</td>\n",
       "      <td>12.682318</td>\n",
       "      <td>94.919003</td>\n",
       "      <td>0.892101</td>\n",
       "    </tr>\n",
       "    <tr>\n",
       "      <th>4</th>\n",
       "      <td>7288.0</td>\n",
       "      <td>1212</td>\n",
       "      <td>35.0</td>\n",
       "      <td>36</td>\n",
       "      <td>inf</td>\n",
       "      <td>0.016996</td>\n",
       "      <td>4.659419</td>\n",
       "      <td>136.254407</td>\n",
       "      <td>0.155933</td>\n",
       "      <td>35.064103</td>\n",
       "      <td>0.742657</td>\n",
       "    </tr>\n",
       "    <tr>\n",
       "      <th>5</th>\n",
       "      <td>5451.0</td>\n",
       "      <td>425</td>\n",
       "      <td>12.0</td>\n",
       "      <td>15</td>\n",
       "      <td>inf</td>\n",
       "      <td>0.042532</td>\n",
       "      <td>5.162610</td>\n",
       "      <td>378.339812</td>\n",
       "      <td>NaN</td>\n",
       "      <td>7.891048</td>\n",
       "      <td>0.979143</td>\n",
       "    </tr>\n",
       "    <tr>\n",
       "      <th>6</th>\n",
       "      <td>4491.0</td>\n",
       "      <td>6726</td>\n",
       "      <td>26.0</td>\n",
       "      <td>22</td>\n",
       "      <td>inf</td>\n",
       "      <td>0.006664</td>\n",
       "      <td>10.158061</td>\n",
       "      <td>891.635659</td>\n",
       "      <td>NaN</td>\n",
       "      <td>90.429264</td>\n",
       "      <td>0.898580</td>\n",
       "    </tr>\n",
       "    <tr>\n",
       "      <th>7</th>\n",
       "      <td>1650.0</td>\n",
       "      <td>7313</td>\n",
       "      <td>6.0</td>\n",
       "      <td>30</td>\n",
       "      <td>inf</td>\n",
       "      <td>0.014437</td>\n",
       "      <td>NaN</td>\n",
       "      <td>NaN</td>\n",
       "      <td>NaN</td>\n",
       "      <td>63.532051</td>\n",
       "      <td>NaN</td>\n",
       "    </tr>\n",
       "    <tr>\n",
       "      <th>8</th>\n",
       "      <td>11057.0</td>\n",
       "      <td>2224</td>\n",
       "      <td>62.0</td>\n",
       "      <td>24</td>\n",
       "      <td>inf</td>\n",
       "      <td>0.069089</td>\n",
       "      <td>2.313707</td>\n",
       "      <td>326.579904</td>\n",
       "      <td>10.445250</td>\n",
       "      <td>171.837261</td>\n",
       "      <td>0.473828</td>\n",
       "    </tr>\n",
       "    <tr>\n",
       "      <th>9</th>\n",
       "      <td>1468.0</td>\n",
       "      <td>4674</td>\n",
       "      <td>4.0</td>\n",
       "      <td>10</td>\n",
       "      <td>inf</td>\n",
       "      <td>0.007416</td>\n",
       "      <td>30.134355</td>\n",
       "      <td>328.098129</td>\n",
       "      <td>NaN</td>\n",
       "      <td>16.252174</td>\n",
       "      <td>0.950466</td>\n",
       "    </tr>\n",
       "  </tbody>\n",
       "</table>\n",
       "</div>"
      ],
      "text/plain": [
       "   store_id  block_id  mall_id  external_mall_id     mkt_effc  visit_rate  \\\n",
       "0    9257.0     11273     54.0                18          inf    0.020743   \n",
       "1    9443.0     11271     54.0                18          inf    0.013508   \n",
       "2    5697.0      4319     15.0                17  3437.376490    0.007058   \n",
       "3    7179.0      1201     35.0                36  1789.321358    0.039607   \n",
       "4    7288.0      1212     35.0                36          inf    0.016996   \n",
       "5    5451.0       425     12.0                15          inf    0.042532   \n",
       "6    4491.0      6726     26.0                22          inf    0.006664   \n",
       "7    1650.0      7313      6.0                30          inf    0.014437   \n",
       "8   11057.0      2224     62.0                24          inf    0.069089   \n",
       "9    1468.0      4674      4.0                10          inf    0.007416   \n",
       "\n",
       "          RPV          RPM         RE         CPM        PM  \n",
       "0    7.529344   710.237981        NaN   34.717949  0.951118  \n",
       "1  355.793833  8572.791051        NaN   21.247537  0.997522  \n",
       "2   98.416117  2708.124502  16.654468   43.141204  0.984070  \n",
       "3    3.163600   879.702492  12.682318   94.919003  0.892101  \n",
       "4    4.659419   136.254407   0.155933   35.064103  0.742657  \n",
       "5    5.162610   378.339812        NaN    7.891048  0.979143  \n",
       "6   10.158061   891.635659        NaN   90.429264  0.898580  \n",
       "7         NaN          NaN        NaN   63.532051       NaN  \n",
       "8    2.313707   326.579904  10.445250  171.837261  0.473828  \n",
       "9   30.134355   328.098129        NaN   16.252174  0.950466  "
      ]
     },
     "execution_count": 17,
     "metadata": {},
     "output_type": "execute_result"
    }
   ],
   "source": [
    "metrics.head(10)"
   ]
  },
  {
   "cell_type": "markdown",
   "metadata": {},
   "source": [
    "## engagement"
   ]
  },
  {
   "cell_type": "code",
   "execution_count": 18,
   "metadata": {},
   "outputs": [
    {
     "name": "stderr",
     "output_type": "stream",
     "text": [
      "/var/folders/z9/zf5v62yj5_75v0dwqpq9c7nw0000gn/T/ipykernel_84205/2825203873.py:2: SettingWithCopyWarning: \n",
      "A value is trying to be set on a copy of a slice from a DataFrame.\n",
      "Try using .loc[row_indexer,col_indexer] = value instead\n",
      "\n",
      "See the caveats in the documentation: https://pandas.pydata.org/pandas-docs/stable/user_guide/indexing.html#returning-a-view-versus-a-copy\n",
      "  metrics['Space_u'] = data['median_dwell_time']/data['store_area']\n"
     ]
    }
   ],
   "source": [
    "# using median dwell in case outlier effect\n",
    "metrics['Space_u'] = data['median_dwell_time']/data['store_area']"
   ]
  },
  {
   "cell_type": "code",
   "execution_count": 19,
   "metadata": {},
   "outputs": [
    {
     "data": {
      "text/html": [
       "<div>\n",
       "<style scoped>\n",
       "    .dataframe tbody tr th:only-of-type {\n",
       "        vertical-align: middle;\n",
       "    }\n",
       "\n",
       "    .dataframe tbody tr th {\n",
       "        vertical-align: top;\n",
       "    }\n",
       "\n",
       "    .dataframe thead th {\n",
       "        text-align: right;\n",
       "    }\n",
       "</style>\n",
       "<table border=\"1\" class=\"dataframe\">\n",
       "  <thead>\n",
       "    <tr style=\"text-align: right;\">\n",
       "      <th></th>\n",
       "      <th>store_id</th>\n",
       "      <th>block_id</th>\n",
       "      <th>mall_id</th>\n",
       "      <th>external_mall_id</th>\n",
       "      <th>mkt_effc</th>\n",
       "      <th>visit_rate</th>\n",
       "      <th>RPV</th>\n",
       "      <th>RPM</th>\n",
       "      <th>RE</th>\n",
       "      <th>CPM</th>\n",
       "      <th>PM</th>\n",
       "      <th>Space_u</th>\n",
       "    </tr>\n",
       "  </thead>\n",
       "  <tbody>\n",
       "    <tr>\n",
       "      <th>0</th>\n",
       "      <td>9257.0</td>\n",
       "      <td>11273</td>\n",
       "      <td>54.0</td>\n",
       "      <td>18</td>\n",
       "      <td>inf</td>\n",
       "      <td>0.020743</td>\n",
       "      <td>7.529344</td>\n",
       "      <td>710.237981</td>\n",
       "      <td>NaN</td>\n",
       "      <td>34.717949</td>\n",
       "      <td>0.951118</td>\n",
       "      <td>1.730769</td>\n",
       "    </tr>\n",
       "    <tr>\n",
       "      <th>1</th>\n",
       "      <td>9443.0</td>\n",
       "      <td>11271</td>\n",
       "      <td>54.0</td>\n",
       "      <td>18</td>\n",
       "      <td>inf</td>\n",
       "      <td>0.013508</td>\n",
       "      <td>355.793833</td>\n",
       "      <td>8572.791051</td>\n",
       "      <td>NaN</td>\n",
       "      <td>21.247537</td>\n",
       "      <td>0.997522</td>\n",
       "      <td>0.591133</td>\n",
       "    </tr>\n",
       "    <tr>\n",
       "      <th>2</th>\n",
       "      <td>5697.0</td>\n",
       "      <td>4319</td>\n",
       "      <td>15.0</td>\n",
       "      <td>17</td>\n",
       "      <td>3437.376490</td>\n",
       "      <td>0.007058</td>\n",
       "      <td>98.416117</td>\n",
       "      <td>2708.124502</td>\n",
       "      <td>16.654468</td>\n",
       "      <td>43.141204</td>\n",
       "      <td>0.984070</td>\n",
       "      <td>10.833333</td>\n",
       "    </tr>\n",
       "    <tr>\n",
       "      <th>3</th>\n",
       "      <td>7179.0</td>\n",
       "      <td>1201</td>\n",
       "      <td>35.0</td>\n",
       "      <td>36</td>\n",
       "      <td>1789.321358</td>\n",
       "      <td>0.039607</td>\n",
       "      <td>3.163600</td>\n",
       "      <td>879.702492</td>\n",
       "      <td>12.682318</td>\n",
       "      <td>94.919003</td>\n",
       "      <td>0.892101</td>\n",
       "      <td>2.242991</td>\n",
       "    </tr>\n",
       "    <tr>\n",
       "      <th>4</th>\n",
       "      <td>7288.0</td>\n",
       "      <td>1212</td>\n",
       "      <td>35.0</td>\n",
       "      <td>36</td>\n",
       "      <td>inf</td>\n",
       "      <td>0.016996</td>\n",
       "      <td>4.659419</td>\n",
       "      <td>136.254407</td>\n",
       "      <td>0.155933</td>\n",
       "      <td>35.064103</td>\n",
       "      <td>0.742657</td>\n",
       "      <td>0.576923</td>\n",
       "    </tr>\n",
       "  </tbody>\n",
       "</table>\n",
       "</div>"
      ],
      "text/plain": [
       "   store_id  block_id  mall_id  external_mall_id     mkt_effc  visit_rate  \\\n",
       "0    9257.0     11273     54.0                18          inf    0.020743   \n",
       "1    9443.0     11271     54.0                18          inf    0.013508   \n",
       "2    5697.0      4319     15.0                17  3437.376490    0.007058   \n",
       "3    7179.0      1201     35.0                36  1789.321358    0.039607   \n",
       "4    7288.0      1212     35.0                36          inf    0.016996   \n",
       "\n",
       "          RPV          RPM         RE        CPM        PM    Space_u  \n",
       "0    7.529344   710.237981        NaN  34.717949  0.951118   1.730769  \n",
       "1  355.793833  8572.791051        NaN  21.247537  0.997522   0.591133  \n",
       "2   98.416117  2708.124502  16.654468  43.141204  0.984070  10.833333  \n",
       "3    3.163600   879.702492  12.682318  94.919003  0.892101   2.242991  \n",
       "4    4.659419   136.254407   0.155933  35.064103  0.742657   0.576923  "
      ]
     },
     "execution_count": 19,
     "metadata": {},
     "output_type": "execute_result"
    }
   ],
   "source": [
    "metrics.head(5)"
   ]
  },
  {
   "cell_type": "code",
   "execution_count": 21,
   "metadata": {},
   "outputs": [
    {
     "data": {
      "text/plain": [
       "store_id               0\n",
       "block_id               0\n",
       "mall_id                0\n",
       "external_mall_id       0\n",
       "mkt_effc               0\n",
       "visit_rate             0\n",
       "RPV                  884\n",
       "RPM                  884\n",
       "RE                  1661\n",
       "CPM                    0\n",
       "PM                   884\n",
       "Space_u                0\n",
       "dtype: int64"
      ]
     },
     "execution_count": 21,
     "metadata": {},
     "output_type": "execute_result"
    }
   ],
   "source": [
    "metrics.isna().sum(axis=0)"
   ]
  },
  {
   "cell_type": "code",
   "execution_count": 25,
   "metadata": {},
   "outputs": [
    {
     "data": {
      "text/plain": [
       "Index(['Unnamed: 0', 'external_mall_id', 'block_id', 'average_dwell_time',\n",
       "       'median_dwell_time', 'store_id', 'store_visits_monthly_average',\n",
       "       'store_window_flow_monthly_average', 'store_visits_daily_average',\n",
       "       'store_window_flow_daily_average', 'store_total_visits',\n",
       "       'store_total_window_flow', 'days_with_traffic_data', 'mall_name',\n",
       "       'mall_country', 'mall_id', 'total_mall_area', 'store_name',\n",
       "       'store_year_opened', 'store_year_closed', 'store_branch_level_1',\n",
       "       'store_branch_level_2', 'store_branch_level_3', 'store_sales_r12m',\n",
       "       'store_rent_r12m', 'store_area', 'service_charges_r12m',\n",
       "       'marketing_costs_r12m', 'real_estate_taxes_r12m',\n",
       "       'maintenance_works_r12m', 'total_costs_r12m'],\n",
       "      dtype='object')"
      ]
     },
     "execution_count": 25,
     "metadata": {},
     "output_type": "execute_result"
    }
   ],
   "source": [
    "data.columns"
   ]
  },
  {
   "cell_type": "code",
   "execution_count": 28,
   "metadata": {},
   "outputs": [
    {
     "data": {
      "text/plain": [
       "np.int64(985)"
      ]
     },
     "execution_count": 28,
     "metadata": {},
     "output_type": "execute_result"
    }
   ],
   "source": [
    "data['store_rent_r12m'].isna().sum()"
   ]
  },
  {
   "cell_type": "code",
   "execution_count": null,
   "metadata": {},
   "outputs": [],
   "source": []
  }
 ],
 "metadata": {
  "kernelspec": {
   "display_name": "foo-env",
   "language": "python",
   "name": "python3"
  },
  "language_info": {
   "codemirror_mode": {
    "name": "ipython",
    "version": 3
   },
   "file_extension": ".py",
   "mimetype": "text/x-python",
   "name": "python",
   "nbconvert_exporter": "python",
   "pygments_lexer": "ipython3",
   "version": "3.10.15"
  }
 },
 "nbformat": 4,
 "nbformat_minor": 2
}
