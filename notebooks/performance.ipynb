{
 "cells": [
  {
   "cell_type": "code",
   "execution_count": 628,
   "metadata": {},
   "outputs": [],
   "source": [
    "import pandas as pd\n",
    "import numpy as np\n",
    "import os\n"
   ]
  },
  {
   "cell_type": "code",
   "execution_count": 629,
   "metadata": {},
   "outputs": [
    {
     "name": "stdout",
     "output_type": "stream",
     "text": [
      "/Users/kumo/hec/courses/data_challenge_uw/Data-Challenge-URW-HEC/raw_data\n",
      "/Users/kumo/hec/courses/data_challenge_uw/Data-Challenge-URW-HEC/raw_data\n"
     ]
    }
   ],
   "source": [
    "print(os.getcwd())\n",
    "os.chdir('../raw_data')\n",
    "print(os.getcwd())"
   ]
  },
  {
   "cell_type": "code",
   "execution_count": 630,
   "metadata": {},
   "outputs": [
    {
     "data": {
      "text/html": [
       "<div>\n",
       "<style scoped>\n",
       "    .dataframe tbody tr th:only-of-type {\n",
       "        vertical-align: middle;\n",
       "    }\n",
       "\n",
       "    .dataframe tbody tr th {\n",
       "        vertical-align: top;\n",
       "    }\n",
       "\n",
       "    .dataframe thead th {\n",
       "        text-align: right;\n",
       "    }\n",
       "</style>\n",
       "<table border=\"1\" class=\"dataframe\">\n",
       "  <thead>\n",
       "    <tr style=\"text-align: right;\">\n",
       "      <th></th>\n",
       "      <th>Unnamed: 0</th>\n",
       "      <th>external_mall_id</th>\n",
       "      <th>block_id</th>\n",
       "      <th>average_dwell_time</th>\n",
       "      <th>median_dwell_time</th>\n",
       "      <th>store_id</th>\n",
       "      <th>store_visits_monthly_average</th>\n",
       "      <th>store_window_flow_monthly_average</th>\n",
       "      <th>store_visits_daily_average</th>\n",
       "      <th>store_window_flow_daily_average</th>\n",
       "      <th>...</th>\n",
       "      <th>store_branch_level_1</th>\n",
       "      <th>store_branch_level_2</th>\n",
       "      <th>store_branch_level_3</th>\n",
       "      <th>store_sales_r12m</th>\n",
       "      <th>store_rent_r12m</th>\n",
       "      <th>store_area</th>\n",
       "      <th>service_charges_r12m</th>\n",
       "      <th>marketing_costs_r12m</th>\n",
       "      <th>real_estate_taxes_r12m</th>\n",
       "      <th>maintenance_works_r12m</th>\n",
       "    </tr>\n",
       "  </thead>\n",
       "  <tbody>\n",
       "    <tr>\n",
       "      <th>0</th>\n",
       "      <td>0</td>\n",
       "      <td>18</td>\n",
       "      <td>11273</td>\n",
       "      <td>249.520051</td>\n",
       "      <td>180.0</td>\n",
       "      <td>9257.0</td>\n",
       "      <td>9810.25</td>\n",
       "      <td>472952.50</td>\n",
       "      <td>509.62</td>\n",
       "      <td>24568.96</td>\n",
       "      <td>...</td>\n",
       "      <td>Jewellery</td>\n",
       "      <td>Jewellery &amp; Watches</td>\n",
       "      <td>Modern Jewellery &amp; Watches</td>\n",
       "      <td>886377.00</td>\n",
       "      <td>NaN</td>\n",
       "      <td>104.0</td>\n",
       "      <td>25034.0</td>\n",
       "      <td>0.0</td>\n",
       "      <td>11957.0</td>\n",
       "      <td>6337.0</td>\n",
       "    </tr>\n",
       "    <tr>\n",
       "      <th>1</th>\n",
       "      <td>1</td>\n",
       "      <td>18</td>\n",
       "      <td>11271</td>\n",
       "      <td>190.005359</td>\n",
       "      <td>120.0</td>\n",
       "      <td>9443.0</td>\n",
       "      <td>4891.25</td>\n",
       "      <td>362107.00</td>\n",
       "      <td>254.09</td>\n",
       "      <td>18810.75</td>\n",
       "      <td>...</td>\n",
       "      <td>Fashion apparel</td>\n",
       "      <td>Family Fashion</td>\n",
       "      <td>Family Fashion</td>\n",
       "      <td>20883319.00</td>\n",
       "      <td>NaN</td>\n",
       "      <td>203.0</td>\n",
       "      <td>33465.0</td>\n",
       "      <td>0.0</td>\n",
       "      <td>11957.0</td>\n",
       "      <td>6337.0</td>\n",
       "    </tr>\n",
       "    <tr>\n",
       "      <th>2</th>\n",
       "      <td>2</td>\n",
       "      <td>17</td>\n",
       "      <td>4319</td>\n",
       "      <td>1325.216860</td>\n",
       "      <td>780.0</td>\n",
       "      <td>5697.0</td>\n",
       "      <td>1981.23</td>\n",
       "      <td>280719.08</td>\n",
       "      <td>70.37</td>\n",
       "      <td>9970.90</td>\n",
       "      <td>...</td>\n",
       "      <td>Services</td>\n",
       "      <td>Imaterial services</td>\n",
       "      <td>Travel Agency</td>\n",
       "      <td>2339819.57</td>\n",
       "      <td>140492.0</td>\n",
       "      <td>72.0</td>\n",
       "      <td>18000.0</td>\n",
       "      <td>980.0</td>\n",
       "      <td>11957.0</td>\n",
       "      <td>6337.0</td>\n",
       "    </tr>\n",
       "    <tr>\n",
       "      <th>3</th>\n",
       "      <td>3</td>\n",
       "      <td>36</td>\n",
       "      <td>1201</td>\n",
       "      <td>621.422549</td>\n",
       "      <td>240.0</td>\n",
       "      <td>7179.0</td>\n",
       "      <td>29753.50</td>\n",
       "      <td>751216.75</td>\n",
       "      <td>1226.95</td>\n",
       "      <td>30978.01</td>\n",
       "      <td>...</td>\n",
       "      <td>Food &amp; Beverage Services</td>\n",
       "      <td>Sweet moments</td>\n",
       "      <td>Confectionery</td>\n",
       "      <td>1129538.00</td>\n",
       "      <td>89064.0</td>\n",
       "      <td>107.0</td>\n",
       "      <td>80035.0</td>\n",
       "      <td>5038.0</td>\n",
       "      <td>11957.0</td>\n",
       "      <td>24846.0</td>\n",
       "    </tr>\n",
       "    <tr>\n",
       "      <th>4</th>\n",
       "      <td>4</td>\n",
       "      <td>36</td>\n",
       "      <td>1212</td>\n",
       "      <td>217.833860</td>\n",
       "      <td>120.0</td>\n",
       "      <td>7288.0</td>\n",
       "      <td>6082.50</td>\n",
       "      <td>357884.00</td>\n",
       "      <td>253.44</td>\n",
       "      <td>14911.83</td>\n",
       "      <td>...</td>\n",
       "      <td>Fashion apparel</td>\n",
       "      <td>Men's Fashion</td>\n",
       "      <td>Men's Fashion</td>\n",
       "      <td>340091.00</td>\n",
       "      <td>2181010.0</td>\n",
       "      <td>208.0</td>\n",
       "      <td>69226.0</td>\n",
       "      <td>0.0</td>\n",
       "      <td>11957.0</td>\n",
       "      <td>6337.0</td>\n",
       "    </tr>\n",
       "  </tbody>\n",
       "</table>\n",
       "<p>5 rows × 30 columns</p>\n",
       "</div>"
      ],
      "text/plain": [
       "   Unnamed: 0  external_mall_id  block_id  average_dwell_time  \\\n",
       "0           0                18     11273          249.520051   \n",
       "1           1                18     11271          190.005359   \n",
       "2           2                17      4319         1325.216860   \n",
       "3           3                36      1201          621.422549   \n",
       "4           4                36      1212          217.833860   \n",
       "\n",
       "   median_dwell_time  store_id  store_visits_monthly_average  \\\n",
       "0              180.0    9257.0                       9810.25   \n",
       "1              120.0    9443.0                       4891.25   \n",
       "2              780.0    5697.0                       1981.23   \n",
       "3              240.0    7179.0                      29753.50   \n",
       "4              120.0    7288.0                       6082.50   \n",
       "\n",
       "   store_window_flow_monthly_average  store_visits_daily_average  \\\n",
       "0                          472952.50                      509.62   \n",
       "1                          362107.00                      254.09   \n",
       "2                          280719.08                       70.37   \n",
       "3                          751216.75                     1226.95   \n",
       "4                          357884.00                      253.44   \n",
       "\n",
       "   store_window_flow_daily_average  ...      store_branch_level_1  \\\n",
       "0                         24568.96  ...                 Jewellery   \n",
       "1                         18810.75  ...           Fashion apparel   \n",
       "2                          9970.90  ...                  Services   \n",
       "3                         30978.01  ...  Food & Beverage Services   \n",
       "4                         14911.83  ...           Fashion apparel   \n",
       "\n",
       "   store_branch_level_2        store_branch_level_3 store_sales_r12m  \\\n",
       "0   Jewellery & Watches  Modern Jewellery & Watches        886377.00   \n",
       "1        Family Fashion              Family Fashion      20883319.00   \n",
       "2    Imaterial services               Travel Agency       2339819.57   \n",
       "3         Sweet moments               Confectionery       1129538.00   \n",
       "4         Men's Fashion               Men's Fashion        340091.00   \n",
       "\n",
       "  store_rent_r12m  store_area  service_charges_r12m marketing_costs_r12m  \\\n",
       "0             NaN       104.0               25034.0                  0.0   \n",
       "1             NaN       203.0               33465.0                  0.0   \n",
       "2        140492.0        72.0               18000.0                980.0   \n",
       "3         89064.0       107.0               80035.0               5038.0   \n",
       "4       2181010.0       208.0               69226.0                  0.0   \n",
       "\n",
       "  real_estate_taxes_r12m maintenance_works_r12m  \n",
       "0                11957.0                 6337.0  \n",
       "1                11957.0                 6337.0  \n",
       "2                11957.0                 6337.0  \n",
       "3                11957.0                24846.0  \n",
       "4                11957.0                 6337.0  \n",
       "\n",
       "[5 rows x 30 columns]"
      ]
     },
     "execution_count": 630,
     "metadata": {},
     "output_type": "execute_result"
    }
   ],
   "source": [
    "data = pd.read_csv('cleaned_data.csv')\n",
    "data.head(5)"
   ]
  },
  {
   "cell_type": "code",
   "execution_count": 631,
   "metadata": {},
   "outputs": [
    {
     "data": {
      "text/plain": [
       "Index(['Unnamed: 0', 'external_mall_id', 'block_id', 'average_dwell_time',\n",
       "       'median_dwell_time', 'store_id', 'store_visits_monthly_average',\n",
       "       'store_window_flow_monthly_average', 'store_visits_daily_average',\n",
       "       'store_window_flow_daily_average', 'store_total_visits',\n",
       "       'store_total_window_flow', 'days_with_traffic_data', 'mall_name',\n",
       "       'mall_country', 'mall_id', 'total_mall_area', 'store_name',\n",
       "       'store_year_opened', 'store_year_closed', 'store_branch_level_1',\n",
       "       'store_branch_level_2', 'store_branch_level_3', 'store_sales_r12m',\n",
       "       'store_rent_r12m', 'store_area', 'service_charges_r12m',\n",
       "       'marketing_costs_r12m', 'real_estate_taxes_r12m',\n",
       "       'maintenance_works_r12m'],\n",
       "      dtype='object')"
      ]
     },
     "execution_count": 631,
     "metadata": {},
     "output_type": "execute_result"
    }
   ],
   "source": [
    "data.columns"
   ]
  },
  {
   "cell_type": "markdown",
   "metadata": {},
   "source": [
    "# further cleaning"
   ]
  },
  {
   "cell_type": "markdown",
   "metadata": {},
   "source": [
    "## cost"
   ]
  },
  {
   "cell_type": "code",
   "execution_count": 632,
   "metadata": {},
   "outputs": [
    {
     "data": {
      "text/plain": [
       "service_charges_r12m     -86042.0\n",
       "marketing_costs_r12m     -41943.0\n",
       "real_estate_taxes_r12m   -16695.0\n",
       "maintenance_works_r12m        0.0\n",
       "dtype: float64"
      ]
     },
     "execution_count": 632,
     "metadata": {},
     "output_type": "execute_result"
    }
   ],
   "source": [
    "cost_cols = ['service_charges_r12m', 'marketing_costs_r12m', 'real_estate_taxes_r12m', 'maintenance_works_r12m']\n",
    "data[cost_cols].min(axis=0)\n",
    "# negative values should not exist, we determine to use 0 to replace them."
   ]
  },
  {
   "cell_type": "code",
   "execution_count": 633,
   "metadata": {},
   "outputs": [
    {
     "name": "stdout",
     "output_type": "stream",
     "text": [
      "percentage(%) of negative values\n",
      "service_charges_r12m      1.673066\n",
      "marketing_costs_r12m      0.246846\n",
      "real_estate_taxes_r12m    0.054855\n",
      "maintenance_works_r12m    0.000000\n",
      "dtype: float64\n"
     ]
    }
   ],
   "source": [
    "print(f\"percentage(%) of negative values\\n{((data[cost_cols]<0).sum(axis=0)/data.shape[0])*100}\")"
   ]
  },
  {
   "cell_type": "markdown",
   "metadata": {},
   "source": [
    "it's okay to directly drop them, not many"
   ]
  },
  {
   "cell_type": "code",
   "execution_count": 634,
   "metadata": {},
   "outputs": [
    {
     "name": "stdout",
     "output_type": "stream",
     "text": [
      "to dorp 1.9747668678003292%\n"
     ]
    }
   ],
   "source": [
    "print(f\"to dorp {((data[cost_cols] < 0).any(axis=1).sum()/data.shape[0]) * 100}%\")"
   ]
  },
  {
   "cell_type": "code",
   "execution_count": 635,
   "metadata": {},
   "outputs": [],
   "source": [
    "data = data.loc[~(data[cost_cols] < 0).any(axis=1)]"
   ]
  },
  {
   "cell_type": "code",
   "execution_count": 636,
   "metadata": {},
   "outputs": [
    {
     "name": "stderr",
     "output_type": "stream",
     "text": [
      "/var/folders/z9/zf5v62yj5_75v0dwqpq9c7nw0000gn/T/ipykernel_84205/2867994817.py:2: FutureWarning: DataFrame.applymap has been deprecated. Use DataFrame.map instead.\n",
      "  data[cost_cols] = data[cost_cols].applymap(lambda x:max(x, 0))\n"
     ]
    }
   ],
   "source": [
    "# replace them with zero\n",
    "data[cost_cols] = data[cost_cols].applymap(lambda x:max(x, 0))\n",
    "data['total_costs_r12m'] = data[cost_cols].sum(axis=1)"
   ]
  },
  {
   "cell_type": "markdown",
   "metadata": {},
   "source": [
    "## visitor"
   ]
  },
  {
   "cell_type": "code",
   "execution_count": 637,
   "metadata": {},
   "outputs": [
    {
     "data": {
      "text/plain": [
       "count      3574.000000\n",
       "mean      21500.184063\n",
       "std       33539.946814\n",
       "min           0.000000\n",
       "25%        4745.547500\n",
       "50%       10213.460000\n",
       "75%       23601.375000\n",
       "max      444736.540000\n",
       "Name: store_visits_monthly_average, dtype: float64"
      ]
     },
     "execution_count": 637,
     "metadata": {},
     "output_type": "execute_result"
    }
   ],
   "source": [
    "data['store_visits_monthly_average'].describe()"
   ]
  },
  {
   "cell_type": "code",
   "execution_count": 638,
   "metadata": {},
   "outputs": [
    {
     "data": {
      "text/plain": [
       "np.int64(5)"
      ]
     },
     "execution_count": 638,
     "metadata": {},
     "output_type": "execute_result"
    }
   ],
   "source": [
    "(data['store_visits_monthly_average'] == 0).sum()\n",
    "# directly drop"
   ]
  },
  {
   "cell_type": "markdown",
   "metadata": {},
   "source": [
    "there're zero observations"
   ]
  },
  {
   "cell_type": "code",
   "execution_count": 639,
   "metadata": {},
   "outputs": [
    {
     "data": {
      "text/plain": [
       "(3574, 31)"
      ]
     },
     "execution_count": 639,
     "metadata": {},
     "output_type": "execute_result"
    }
   ],
   "source": [
    "data.shape"
   ]
  },
  {
   "cell_type": "code",
   "execution_count": 640,
   "metadata": {},
   "outputs": [
    {
     "data": {
      "text/plain": [
       "(3569, 31)"
      ]
     },
     "execution_count": 640,
     "metadata": {},
     "output_type": "execute_result"
    }
   ],
   "source": [
    "data.drop(data[data['store_visits_monthly_average']==0].index).shape"
   ]
  },
  {
   "cell_type": "code",
   "execution_count": 641,
   "metadata": {},
   "outputs": [],
   "source": [
    "data = data.drop(data[data['store_visits_monthly_average']==0].index)"
   ]
  },
  {
   "cell_type": "markdown",
   "metadata": {},
   "source": [
    "## area"
   ]
  },
  {
   "cell_type": "code",
   "execution_count": 642,
   "metadata": {},
   "outputs": [
    {
     "data": {
      "text/plain": [
       "np.float64(0.0)"
      ]
     },
     "execution_count": 642,
     "metadata": {},
     "output_type": "execute_result"
    }
   ],
   "source": [
    "data['store_area'].min()\n",
    "# area is 0, that's no way"
   ]
  },
  {
   "cell_type": "code",
   "execution_count": 643,
   "metadata": {},
   "outputs": [
    {
     "data": {
      "text/plain": [
       "np.float64(0.09106192210703279)"
      ]
     },
     "execution_count": 643,
     "metadata": {},
     "output_type": "execute_result"
    }
   ],
   "source": [
    "(data['store_area'] == 0).sum()/data.shape[0]\n",
    "# 10 percent\n",
    "# too much, in case of generating outliers, using the median value to fill it"
   ]
  },
  {
   "cell_type": "code",
   "execution_count": 644,
   "metadata": {},
   "outputs": [
    {
     "data": {
      "text/plain": [
       "np.float64(160.0)"
      ]
     },
     "execution_count": 644,
     "metadata": {},
     "output_type": "execute_result"
    }
   ],
   "source": [
    "data['store_area'].median()"
   ]
  },
  {
   "cell_type": "code",
   "execution_count": 645,
   "metadata": {},
   "outputs": [
    {
     "data": {
      "text/plain": [
       "634      7.3\n",
       "1004    14.0\n",
       "926     14.2\n",
       "207     15.0\n",
       "3166    15.0\n",
       "Name: store_area, dtype: float64"
      ]
     },
     "execution_count": 645,
     "metadata": {},
     "output_type": "execute_result"
    }
   ],
   "source": [
    "data.loc[data['store_area']!=0, 'store_area'].sort_values().head(5)"
   ]
  },
  {
   "cell_type": "code",
   "execution_count": 646,
   "metadata": {},
   "outputs": [],
   "source": [
    "data['store_area'] = data['store_area'].apply(lambda x: 160 if x<=0 else x)"
   ]
  },
  {
   "cell_type": "markdown",
   "metadata": {},
   "source": [
    "## sales value"
   ]
  },
  {
   "cell_type": "code",
   "execution_count": 647,
   "metadata": {},
   "outputs": [
    {
     "data": {
      "text/plain": [
       "np.int64(4)"
      ]
     },
     "execution_count": 647,
     "metadata": {},
     "output_type": "execute_result"
    }
   ],
   "source": [
    "(data['store_sales_r12m']==0).sum()"
   ]
  },
  {
   "cell_type": "code",
   "execution_count": 648,
   "metadata": {},
   "outputs": [],
   "source": [
    "data = data.loc[data['store_sales_r12m']!=0]"
   ]
  },
  {
   "cell_type": "markdown",
   "metadata": {},
   "source": [
    "# metrics"
   ]
  },
  {
   "cell_type": "code",
   "execution_count": 649,
   "metadata": {},
   "outputs": [],
   "source": [
    "identity = ['store_id', 'block_id', 'mall_id', 'external_mall_id']\n",
    "metrics = data[identity]"
   ]
  },
  {
   "cell_type": "markdown",
   "metadata": {},
   "source": [
    "make them based on month"
   ]
  },
  {
   "cell_type": "markdown",
   "metadata": {},
   "source": [
    "## traffic"
   ]
  },
  {
   "cell_type": "markdown",
   "metadata": {},
   "source": [
    "### traffic cost efficiency"
   ]
  },
  {
   "cell_type": "code",
   "execution_count": 650,
   "metadata": {},
   "outputs": [
    {
     "name": "stderr",
     "output_type": "stream",
     "text": [
      "/var/folders/z9/zf5v62yj5_75v0dwqpq9c7nw0000gn/T/ipykernel_84205/2077493001.py:2: SettingWithCopyWarning: \n",
      "A value is trying to be set on a copy of a slice from a DataFrame.\n",
      "Try using .loc[row_indexer,col_indexer] = value instead\n",
      "\n",
      "See the caveats in the documentation: https://pandas.pydata.org/pandas-docs/stable/user_guide/indexing.html#returning-a-view-versus-a-copy\n",
      "  metrics['tfc_cst_efc'] = data['store_window_flow_monthly_average']/(data['total_costs_r12m']/12)\n"
     ]
    }
   ],
   "source": [
    "# traffic cost efficiency\n",
    "metrics['tfc_cst_efc'] = data['store_window_flow_monthly_average']/(data['total_costs_r12m']/12) "
   ]
  },
  {
   "cell_type": "markdown",
   "metadata": {},
   "source": [
    "### visit rate"
   ]
  },
  {
   "cell_type": "code",
   "execution_count": 651,
   "metadata": {},
   "outputs": [
    {
     "name": "stderr",
     "output_type": "stream",
     "text": [
      "/var/folders/z9/zf5v62yj5_75v0dwqpq9c7nw0000gn/T/ipykernel_84205/1795006489.py:3: SettingWithCopyWarning: \n",
      "A value is trying to be set on a copy of a slice from a DataFrame.\n",
      "Try using .loc[row_indexer,col_indexer] = value instead\n",
      "\n",
      "See the caveats in the documentation: https://pandas.pydata.org/pandas-docs/stable/user_guide/indexing.html#returning-a-view-versus-a-copy\n",
      "  metrics['monthly_visit/window'] = data['store_visits_monthly_average'] / data['store_window_flow_monthly_average']\n",
      "/var/folders/z9/zf5v62yj5_75v0dwqpq9c7nw0000gn/T/ipykernel_84205/1795006489.py:4: SettingWithCopyWarning: \n",
      "A value is trying to be set on a copy of a slice from a DataFrame.\n",
      "Try using .loc[row_indexer,col_indexer] = value instead\n",
      "\n",
      "See the caveats in the documentation: https://pandas.pydata.org/pandas-docs/stable/user_guide/indexing.html#returning-a-view-versus-a-copy\n",
      "  metrics['daily_visit/window'] = data['store_visits_daily_average'] / data['store_window_flow_daily_average']\n",
      "/var/folders/z9/zf5v62yj5_75v0dwqpq9c7nw0000gn/T/ipykernel_84205/1795006489.py:5: SettingWithCopyWarning: \n",
      "A value is trying to be set on a copy of a slice from a DataFrame.\n",
      "Try using .loc[row_indexer,col_indexer] = value instead\n",
      "\n",
      "See the caveats in the documentation: https://pandas.pydata.org/pandas-docs/stable/user_guide/indexing.html#returning-a-view-versus-a-copy\n",
      "  metrics['total_visit/window'] = data['store_total_visits'] / data['store_total_window_flow']\n"
     ]
    }
   ],
   "source": [
    "# visit rate\n",
    "# there are monthly, daily and total \n",
    "metrics['monthly_visit/window'] = data['store_visits_monthly_average'] / data['store_window_flow_monthly_average']\n",
    "metrics['daily_visit/window'] = data['store_visits_daily_average'] / data['store_window_flow_daily_average']\n",
    "metrics['total_visit/window'] = data['store_total_visits'] / data['store_total_window_flow']"
   ]
  },
  {
   "cell_type": "code",
   "execution_count": 652,
   "metadata": {},
   "outputs": [
    {
     "name": "stderr",
     "output_type": "stream",
     "text": [
      "/var/folders/z9/zf5v62yj5_75v0dwqpq9c7nw0000gn/T/ipykernel_84205/1917769999.py:3: SettingWithCopyWarning: \n",
      "A value is trying to be set on a copy of a slice from a DataFrame\n",
      "\n",
      "See the caveats in the documentation: https://pandas.pydata.org/pandas-docs/stable/user_guide/indexing.html#returning-a-view-versus-a-copy\n",
      "  metrics.drop(['daily_visit/window', 'total_visit/window'], axis=1, inplace=True)\n",
      "/var/folders/z9/zf5v62yj5_75v0dwqpq9c7nw0000gn/T/ipykernel_84205/1917769999.py:4: SettingWithCopyWarning: \n",
      "A value is trying to be set on a copy of a slice from a DataFrame\n",
      "\n",
      "See the caveats in the documentation: https://pandas.pydata.org/pandas-docs/stable/user_guide/indexing.html#returning-a-view-versus-a-copy\n",
      "  metrics.rename(columns={'monthly_visit/window':'visit_rate'}, inplace=True)\n"
     ]
    }
   ],
   "source": [
    "metrics.head(10)\n",
    "# since they are almost the same, we only keep one\n",
    "metrics.drop(['daily_visit/window', 'total_visit/window'], axis=1, inplace=True)\n",
    "metrics.rename(columns={'monthly_visit/window':'visit_rate'}, inplace=True)"
   ]
  },
  {
   "cell_type": "markdown",
   "metadata": {},
   "source": [
    "## Sales"
   ]
  },
  {
   "cell_type": "markdown",
   "metadata": {},
   "source": [
    "### revenue per visitor"
   ]
  },
  {
   "cell_type": "code",
   "execution_count": 653,
   "metadata": {},
   "outputs": [
    {
     "name": "stderr",
     "output_type": "stream",
     "text": [
      "/var/folders/z9/zf5v62yj5_75v0dwqpq9c7nw0000gn/T/ipykernel_84205/2476251328.py:3: SettingWithCopyWarning: \n",
      "A value is trying to be set on a copy of a slice from a DataFrame.\n",
      "Try using .loc[row_indexer,col_indexer] = value instead\n",
      "\n",
      "See the caveats in the documentation: https://pandas.pydata.org/pandas-docs/stable/user_guide/indexing.html#returning-a-view-versus-a-copy\n",
      "  metrics['RPV'] = (data['store_sales_r12m']/12)/data['store_visits_monthly_average']\n"
     ]
    }
   ],
   "source": [
    "# revenue per visit\n",
    "# time unit, month\n",
    "metrics['RPV'] = (data['store_sales_r12m']/12)/data['store_visits_monthly_average']"
   ]
  },
  {
   "cell_type": "markdown",
   "metadata": {},
   "source": [
    "### revenue per m2"
   ]
  },
  {
   "cell_type": "code",
   "execution_count": 654,
   "metadata": {},
   "outputs": [
    {
     "name": "stderr",
     "output_type": "stream",
     "text": [
      "/var/folders/z9/zf5v62yj5_75v0dwqpq9c7nw0000gn/T/ipykernel_84205/3968750639.py:3: SettingWithCopyWarning: \n",
      "A value is trying to be set on a copy of a slice from a DataFrame.\n",
      "Try using .loc[row_indexer,col_indexer] = value instead\n",
      "\n",
      "See the caveats in the documentation: https://pandas.pydata.org/pandas-docs/stable/user_guide/indexing.html#returning-a-view-versus-a-copy\n",
      "  metrics['RPM'] = (data['store_sales_r12m']/12)/data['store_area']\n"
     ]
    }
   ],
   "source": [
    "# revenue per m2\n",
    "# RPM \n",
    "metrics['RPM'] = (data['store_sales_r12m']/12)/data['store_area']"
   ]
  },
  {
   "cell_type": "markdown",
   "metadata": {},
   "source": [
    "### revenue efficiency"
   ]
  },
  {
   "cell_type": "code",
   "execution_count": 655,
   "metadata": {},
   "outputs": [
    {
     "name": "stderr",
     "output_type": "stream",
     "text": [
      "/var/folders/z9/zf5v62yj5_75v0dwqpq9c7nw0000gn/T/ipykernel_84205/3601272623.py:2: SettingWithCopyWarning: \n",
      "A value is trying to be set on a copy of a slice from a DataFrame.\n",
      "Try using .loc[row_indexer,col_indexer] = value instead\n",
      "\n",
      "See the caveats in the documentation: https://pandas.pydata.org/pandas-docs/stable/user_guide/indexing.html#returning-a-view-versus-a-copy\n",
      "  metrics['RE'] = data['store_sales_r12m']/data['total_costs_r12m']\n"
     ]
    }
   ],
   "source": [
    "# Rvenue efficiency\n",
    "metrics['RE'] = data['store_sales_r12m']/data['total_costs_r12m']"
   ]
  },
  {
   "cell_type": "code",
   "execution_count": 656,
   "metadata": {},
   "outputs": [
    {
     "data": {
      "text/plain": [
       "2174    0.001609\n",
       "1657    0.012399\n",
       "2923    0.032193\n",
       "1534    0.061527\n",
       "1263    0.071061\n",
       "          ...   \n",
       "3628         NaN\n",
       "3639         NaN\n",
       "3640         NaN\n",
       "3641         NaN\n",
       "3643         NaN\n",
       "Name: RE, Length: 3565, dtype: float64"
      ]
     },
     "execution_count": 656,
     "metadata": {},
     "output_type": "execute_result"
    }
   ],
   "source": [
    "metrics['RE'].sort_values()"
   ]
  },
  {
   "cell_type": "code",
   "execution_count": 657,
   "metadata": {},
   "outputs": [
    {
     "data": {
      "text/plain": [
       "Index(['Unnamed: 0', 'external_mall_id', 'block_id', 'average_dwell_time',\n",
       "       'median_dwell_time', 'store_id', 'store_visits_monthly_average',\n",
       "       'store_window_flow_monthly_average', 'store_visits_daily_average',\n",
       "       'store_window_flow_daily_average', 'store_total_visits',\n",
       "       'store_total_window_flow', 'days_with_traffic_data', 'mall_name',\n",
       "       'mall_country', 'mall_id', 'total_mall_area', 'store_name',\n",
       "       'store_year_opened', 'store_year_closed', 'store_branch_level_1',\n",
       "       'store_branch_level_2', 'store_branch_level_3', 'store_sales_r12m',\n",
       "       'store_rent_r12m', 'store_area', 'service_charges_r12m',\n",
       "       'marketing_costs_r12m', 'real_estate_taxes_r12m',\n",
       "       'maintenance_works_r12m', 'total_costs_r12m'],\n",
       "      dtype='object')"
      ]
     },
     "execution_count": 657,
     "metadata": {},
     "output_type": "execute_result"
    }
   ],
   "source": [
    "data.columns"
   ]
  },
  {
   "cell_type": "markdown",
   "metadata": {},
   "source": [
    "## cost"
   ]
  },
  {
   "cell_type": "markdown",
   "metadata": {},
   "source": [
    "### cost per m2"
   ]
  },
  {
   "cell_type": "code",
   "execution_count": 658,
   "metadata": {},
   "outputs": [
    {
     "name": "stderr",
     "output_type": "stream",
     "text": [
      "/var/folders/z9/zf5v62yj5_75v0dwqpq9c7nw0000gn/T/ipykernel_84205/2759233445.py:2: SettingWithCopyWarning: \n",
      "A value is trying to be set on a copy of a slice from a DataFrame.\n",
      "Try using .loc[row_indexer,col_indexer] = value instead\n",
      "\n",
      "See the caveats in the documentation: https://pandas.pydata.org/pandas-docs/stable/user_guide/indexing.html#returning-a-view-versus-a-copy\n",
      "  metrics['CPM'] = (data['total_costs_r12m']/12)/data['store_area']\n"
     ]
    }
   ],
   "source": [
    "# cost per m2\n",
    "metrics['CPM'] = (data['total_costs_r12m']/12)/data['store_area']"
   ]
  },
  {
   "cell_type": "markdown",
   "metadata": {},
   "source": [
    "### profit margin"
   ]
  },
  {
   "cell_type": "code",
   "execution_count": 659,
   "metadata": {},
   "outputs": [
    {
     "name": "stderr",
     "output_type": "stream",
     "text": [
      "/var/folders/z9/zf5v62yj5_75v0dwqpq9c7nw0000gn/T/ipykernel_84205/1555608295.py:2: SettingWithCopyWarning: \n",
      "A value is trying to be set on a copy of a slice from a DataFrame.\n",
      "Try using .loc[row_indexer,col_indexer] = value instead\n",
      "\n",
      "See the caveats in the documentation: https://pandas.pydata.org/pandas-docs/stable/user_guide/indexing.html#returning-a-view-versus-a-copy\n",
      "  metrics['PM'] = (data['store_sales_r12m']-data['total_costs_r12m'])/data['store_sales_r12m']\n"
     ]
    }
   ],
   "source": [
    "# profit margin \n",
    "metrics['PM'] = (data['store_sales_r12m']-data['total_costs_r12m'])/data['store_sales_r12m']"
   ]
  },
  {
   "cell_type": "markdown",
   "metadata": {},
   "source": [
    "## engagement"
   ]
  },
  {
   "cell_type": "code",
   "execution_count": 660,
   "metadata": {},
   "outputs": [
    {
     "name": "stderr",
     "output_type": "stream",
     "text": [
      "/var/folders/z9/zf5v62yj5_75v0dwqpq9c7nw0000gn/T/ipykernel_84205/2825203873.py:2: SettingWithCopyWarning: \n",
      "A value is trying to be set on a copy of a slice from a DataFrame.\n",
      "Try using .loc[row_indexer,col_indexer] = value instead\n",
      "\n",
      "See the caveats in the documentation: https://pandas.pydata.org/pandas-docs/stable/user_guide/indexing.html#returning-a-view-versus-a-copy\n",
      "  metrics['Space_u'] = data['median_dwell_time']/data['store_area']\n"
     ]
    }
   ],
   "source": [
    "# using median dwell in case outlier effect\n",
    "metrics['Space_u'] = data['median_dwell_time']/data['store_area']"
   ]
  },
  {
   "cell_type": "code",
   "execution_count": 661,
   "metadata": {},
   "outputs": [
    {
     "data": {
      "text/html": [
       "<div>\n",
       "<style scoped>\n",
       "    .dataframe tbody tr th:only-of-type {\n",
       "        vertical-align: middle;\n",
       "    }\n",
       "\n",
       "    .dataframe tbody tr th {\n",
       "        vertical-align: top;\n",
       "    }\n",
       "\n",
       "    .dataframe thead th {\n",
       "        text-align: right;\n",
       "    }\n",
       "</style>\n",
       "<table border=\"1\" class=\"dataframe\">\n",
       "  <thead>\n",
       "    <tr style=\"text-align: right;\">\n",
       "      <th></th>\n",
       "      <th>store_id</th>\n",
       "      <th>block_id</th>\n",
       "      <th>mall_id</th>\n",
       "      <th>external_mall_id</th>\n",
       "      <th>tfc_cst_efc</th>\n",
       "      <th>visit_rate</th>\n",
       "      <th>RPV</th>\n",
       "      <th>RPM</th>\n",
       "      <th>RE</th>\n",
       "      <th>CPM</th>\n",
       "      <th>PM</th>\n",
       "      <th>Space_u</th>\n",
       "    </tr>\n",
       "  </thead>\n",
       "  <tbody>\n",
       "    <tr>\n",
       "      <th>0</th>\n",
       "      <td>9257.0</td>\n",
       "      <td>11273</td>\n",
       "      <td>54.0</td>\n",
       "      <td>18</td>\n",
       "      <td>130.987583</td>\n",
       "      <td>0.020743</td>\n",
       "      <td>7.529344</td>\n",
       "      <td>710.237981</td>\n",
       "      <td>20.457372</td>\n",
       "      <td>34.717949</td>\n",
       "      <td>0.951118</td>\n",
       "      <td>1.730769</td>\n",
       "    </tr>\n",
       "    <tr>\n",
       "      <th>1</th>\n",
       "      <td>9443.0</td>\n",
       "      <td>11271</td>\n",
       "      <td>54.0</td>\n",
       "      <td>18</td>\n",
       "      <td>83.952240</td>\n",
       "      <td>0.013508</td>\n",
       "      <td>355.793833</td>\n",
       "      <td>8572.791051</td>\n",
       "      <td>403.472227</td>\n",
       "      <td>21.247537</td>\n",
       "      <td>0.997522</td>\n",
       "      <td>0.591133</td>\n",
       "    </tr>\n",
       "    <tr>\n",
       "      <th>2</th>\n",
       "      <td>5697.0</td>\n",
       "      <td>4319</td>\n",
       "      <td>15.0</td>\n",
       "      <td>17</td>\n",
       "      <td>90.374764</td>\n",
       "      <td>0.007058</td>\n",
       "      <td>98.416117</td>\n",
       "      <td>2708.124502</td>\n",
       "      <td>62.773504</td>\n",
       "      <td>43.141204</td>\n",
       "      <td>0.984070</td>\n",
       "      <td>10.833333</td>\n",
       "    </tr>\n",
       "    <tr>\n",
       "      <th>3</th>\n",
       "      <td>7179.0</td>\n",
       "      <td>1201</td>\n",
       "      <td>35.0</td>\n",
       "      <td>36</td>\n",
       "      <td>73.965350</td>\n",
       "      <td>0.039607</td>\n",
       "      <td>3.163600</td>\n",
       "      <td>879.702492</td>\n",
       "      <td>9.267928</td>\n",
       "      <td>94.919003</td>\n",
       "      <td>0.892101</td>\n",
       "      <td>2.242991</td>\n",
       "    </tr>\n",
       "    <tr>\n",
       "      <th>4</th>\n",
       "      <td>7288.0</td>\n",
       "      <td>1212</td>\n",
       "      <td>35.0</td>\n",
       "      <td>36</td>\n",
       "      <td>49.070018</td>\n",
       "      <td>0.016996</td>\n",
       "      <td>4.659419</td>\n",
       "      <td>136.254407</td>\n",
       "      <td>3.885866</td>\n",
       "      <td>35.064103</td>\n",
       "      <td>0.742657</td>\n",
       "      <td>0.576923</td>\n",
       "    </tr>\n",
       "  </tbody>\n",
       "</table>\n",
       "</div>"
      ],
      "text/plain": [
       "   store_id  block_id  mall_id  external_mall_id  tfc_cst_efc  visit_rate  \\\n",
       "0    9257.0     11273     54.0                18   130.987583    0.020743   \n",
       "1    9443.0     11271     54.0                18    83.952240    0.013508   \n",
       "2    5697.0      4319     15.0                17    90.374764    0.007058   \n",
       "3    7179.0      1201     35.0                36    73.965350    0.039607   \n",
       "4    7288.0      1212     35.0                36    49.070018    0.016996   \n",
       "\n",
       "          RPV          RPM          RE        CPM        PM    Space_u  \n",
       "0    7.529344   710.237981   20.457372  34.717949  0.951118   1.730769  \n",
       "1  355.793833  8572.791051  403.472227  21.247537  0.997522   0.591133  \n",
       "2   98.416117  2708.124502   62.773504  43.141204  0.984070  10.833333  \n",
       "3    3.163600   879.702492    9.267928  94.919003  0.892101   2.242991  \n",
       "4    4.659419   136.254407    3.885866  35.064103  0.742657   0.576923  "
      ]
     },
     "execution_count": 661,
     "metadata": {},
     "output_type": "execute_result"
    }
   ],
   "source": [
    "metrics.head(5)"
   ]
  },
  {
   "cell_type": "code",
   "execution_count": 662,
   "metadata": {},
   "outputs": [
    {
     "data": {
      "text/plain": [
       "store_id              0\n",
       "block_id              0\n",
       "mall_id               0\n",
       "external_mall_id      0\n",
       "tfc_cst_efc           0\n",
       "visit_rate            0\n",
       "RPV                 869\n",
       "RPM                 869\n",
       "RE                  869\n",
       "CPM                   0\n",
       "PM                  869\n",
       "Space_u               0\n",
       "dtype: int64"
      ]
     },
     "execution_count": 662,
     "metadata": {},
     "output_type": "execute_result"
    }
   ],
   "source": [
    "metrics.isna().sum(axis=0)"
   ]
  },
  {
   "cell_type": "markdown",
   "metadata": {},
   "source": [
    "# comprehensive metric"
   ]
  },
  {
   "cell_type": "code",
   "execution_count": 663,
   "metadata": {},
   "outputs": [
    {
     "data": {
      "text/plain": [
       "Index(['store_id', 'block_id', 'mall_id', 'external_mall_id', 'tfc_cst_efc',\n",
       "       'visit_rate', 'RPV', 'RPM', 'RE', 'CPM', 'PM', 'Space_u'],\n",
       "      dtype='object')"
      ]
     },
     "execution_count": 663,
     "metadata": {},
     "output_type": "execute_result"
    }
   ],
   "source": [
    "metrics.columns"
   ]
  },
  {
   "cell_type": "code",
   "execution_count": 664,
   "metadata": {},
   "outputs": [
    {
     "data": {
      "text/html": [
       "<div>\n",
       "<style scoped>\n",
       "    .dataframe tbody tr th:only-of-type {\n",
       "        vertical-align: middle;\n",
       "    }\n",
       "\n",
       "    .dataframe tbody tr th {\n",
       "        vertical-align: top;\n",
       "    }\n",
       "\n",
       "    .dataframe thead th {\n",
       "        text-align: right;\n",
       "    }\n",
       "</style>\n",
       "<table border=\"1\" class=\"dataframe\">\n",
       "  <thead>\n",
       "    <tr style=\"text-align: right;\">\n",
       "      <th></th>\n",
       "      <th>tfc_cst_efc</th>\n",
       "      <th>visit_rate</th>\n",
       "      <th>RPV</th>\n",
       "      <th>RPM</th>\n",
       "      <th>RE</th>\n",
       "      <th>CPM</th>\n",
       "      <th>PM</th>\n",
       "      <th>Space_u</th>\n",
       "    </tr>\n",
       "  </thead>\n",
       "  <tbody>\n",
       "    <tr>\n",
       "      <th>count</th>\n",
       "      <td>3565.000000</td>\n",
       "      <td>3565.000000</td>\n",
       "      <td>2696.000000</td>\n",
       "      <td>2696.000000</td>\n",
       "      <td>2696.000000</td>\n",
       "      <td>3565.000000</td>\n",
       "      <td>2696.000000</td>\n",
       "      <td>3565.000000</td>\n",
       "    </tr>\n",
       "    <tr>\n",
       "      <th>mean</th>\n",
       "      <td>183.556293</td>\n",
       "      <td>0.038342</td>\n",
       "      <td>72.617138</td>\n",
       "      <td>3131.268222</td>\n",
       "      <td>133.297128</td>\n",
       "      <td>56.539222</td>\n",
       "      <td>0.506107</td>\n",
       "      <td>3.419174</td>\n",
       "    </tr>\n",
       "    <tr>\n",
       "      <th>std</th>\n",
       "      <td>216.508886</td>\n",
       "      <td>0.055595</td>\n",
       "      <td>334.382879</td>\n",
       "      <td>11163.078715</td>\n",
       "      <td>536.926978</td>\n",
       "      <td>159.972278</td>\n",
       "      <td>12.107151</td>\n",
       "      <td>6.137240</td>\n",
       "    </tr>\n",
       "    <tr>\n",
       "      <th>min</th>\n",
       "      <td>0.582914</td>\n",
       "      <td>0.000338</td>\n",
       "      <td>0.003685</td>\n",
       "      <td>0.396387</td>\n",
       "      <td>0.001609</td>\n",
       "      <td>0.136030</td>\n",
       "      <td>-620.374000</td>\n",
       "      <td>0.023414</td>\n",
       "    </tr>\n",
       "    <tr>\n",
       "      <th>25%</th>\n",
       "      <td>61.475196</td>\n",
       "      <td>0.009581</td>\n",
       "      <td>2.893680</td>\n",
       "      <td>169.087922</td>\n",
       "      <td>7.917044</td>\n",
       "      <td>10.961979</td>\n",
       "      <td>0.873689</td>\n",
       "      <td>0.782269</td>\n",
       "    </tr>\n",
       "    <tr>\n",
       "      <th>50%</th>\n",
       "      <td>122.875103</td>\n",
       "      <td>0.019243</td>\n",
       "      <td>9.566621</td>\n",
       "      <td>535.739046</td>\n",
       "      <td>22.482203</td>\n",
       "      <td>23.452070</td>\n",
       "      <td>0.955520</td>\n",
       "      <td>1.512605</td>\n",
       "    </tr>\n",
       "    <tr>\n",
       "      <th>75%</th>\n",
       "      <td>232.253684</td>\n",
       "      <td>0.042927</td>\n",
       "      <td>32.011828</td>\n",
       "      <td>1683.737958</td>\n",
       "      <td>66.371001</td>\n",
       "      <td>52.822125</td>\n",
       "      <td>0.984933</td>\n",
       "      <td>3.428571</td>\n",
       "    </tr>\n",
       "    <tr>\n",
       "      <th>max</th>\n",
       "      <td>4484.618035</td>\n",
       "      <td>0.790122</td>\n",
       "      <td>9634.972150</td>\n",
       "      <td>169864.125514</td>\n",
       "      <td>9772.530218</td>\n",
       "      <td>4489.553824</td>\n",
       "      <td>0.999898</td>\n",
       "      <td>104.000000</td>\n",
       "    </tr>\n",
       "  </tbody>\n",
       "</table>\n",
       "</div>"
      ],
      "text/plain": [
       "       tfc_cst_efc   visit_rate          RPV            RPM           RE  \\\n",
       "count  3565.000000  3565.000000  2696.000000    2696.000000  2696.000000   \n",
       "mean    183.556293     0.038342    72.617138    3131.268222   133.297128   \n",
       "std     216.508886     0.055595   334.382879   11163.078715   536.926978   \n",
       "min       0.582914     0.000338     0.003685       0.396387     0.001609   \n",
       "25%      61.475196     0.009581     2.893680     169.087922     7.917044   \n",
       "50%     122.875103     0.019243     9.566621     535.739046    22.482203   \n",
       "75%     232.253684     0.042927    32.011828    1683.737958    66.371001   \n",
       "max    4484.618035     0.790122  9634.972150  169864.125514  9772.530218   \n",
       "\n",
       "               CPM           PM      Space_u  \n",
       "count  3565.000000  2696.000000  3565.000000  \n",
       "mean     56.539222     0.506107     3.419174  \n",
       "std     159.972278    12.107151     6.137240  \n",
       "min       0.136030  -620.374000     0.023414  \n",
       "25%      10.961979     0.873689     0.782269  \n",
       "50%      23.452070     0.955520     1.512605  \n",
       "75%      52.822125     0.984933     3.428571  \n",
       "max    4489.553824     0.999898   104.000000  "
      ]
     },
     "execution_count": 664,
     "metadata": {},
     "output_type": "execute_result"
    }
   ],
   "source": [
    "m_cols = ['tfc_cst_efc','visit_rate', 'RPV', 'RPM', 'RE', 'CPM', 'PM', 'Space_u']\n",
    "metrics[m_cols].describe()"
   ]
  },
  {
   "cell_type": "code",
   "execution_count": 665,
   "metadata": {},
   "outputs": [],
   "source": [
    "# obviously there's null values, especiall in revenue"
   ]
  },
  {
   "cell_type": "code",
   "execution_count": 666,
   "metadata": {},
   "outputs": [
    {
     "data": {
      "text/plain": [
       "store_id              0\n",
       "block_id              0\n",
       "mall_id               0\n",
       "external_mall_id      0\n",
       "tfc_cst_efc           0\n",
       "visit_rate            0\n",
       "RPV                 869\n",
       "RPM                 869\n",
       "RE                  869\n",
       "CPM                   0\n",
       "PM                  869\n",
       "Space_u               0\n",
       "dtype: int64"
      ]
     },
     "execution_count": 666,
     "metadata": {},
     "output_type": "execute_result"
    }
   ],
   "source": [
    "metrics.isna().sum(axis=0)"
   ]
  },
  {
   "cell_type": "code",
   "execution_count": 667,
   "metadata": {},
   "outputs": [
    {
     "data": {
      "text/plain": [
       "store_sales_r12m    869\n",
       "store_rent_r12m     965\n",
       "dtype: int64"
      ]
     },
     "execution_count": 667,
     "metadata": {},
     "output_type": "execute_result"
    }
   ],
   "source": [
    "data.isna().sum(axis=0)[data.isna().sum(axis=0)!=0]\n",
    "# obviously the null values come from sales"
   ]
  },
  {
   "cell_type": "code",
   "execution_count": 668,
   "metadata": {},
   "outputs": [],
   "source": [
    "# better not using null values\n",
    "metrics = metrics.loc[~metrics.isna().any(axis=1)]\n",
    "metrics.reset_index(drop=True, inplace=True)"
   ]
  },
  {
   "cell_type": "markdown",
   "metadata": {},
   "source": [
    "1. drop  \n",
    "2. use the median value to replace them"
   ]
  },
  {
   "cell_type": "markdown",
   "metadata": {},
   "source": [
    "## AHP(Analytic hierarchy process)\n",
    "refer to [AHP](https://en.wikipedia.org/wiki/Analytic_hierarchy_process)"
   ]
  },
  {
   "cell_type": "markdown",
   "metadata": {},
   "source": [
    "the AHP Comparison Scale\n",
    "\n",
    "AHP uses a standardized scale (1–9) for expressing relative importance. The common scale looks like this:\n",
    "\n",
    "| Numeric Value | Verbal Judgment               | Interpretation                                               |\n",
    "|---------------|-------------------------------|--------------------------------------------------------------|\n",
    "| 1             | Equal importance             | Criterion \\(i\\) is equally important as criterion \\(j\\).     |\n",
    "| 3             | Moderate importance          | Criterion \\(i\\) is moderately more important than \\(j\\).     |\n",
    "| 5             | Strong importance            | Criterion \\(i\\) is strongly more important than \\(j\\).       |\n",
    "| 7             | Very strong importance       | Criterion \\(i\\) is much more important than \\(j\\).           |\n",
    "| 9             | Extreme importance           | Criterion \\(i\\) is extremely more important than \\(j\\).      |\n",
    "| 2, 4, 6, 8    | Intermediate values          | Compromise or midpoints between the above judgments.         |\n"
   ]
  },
  {
   "cell_type": "markdown",
   "metadata": {},
   "source": [
    "build the APH matrix initially. \n",
    "Assumption:   \n",
    "1. the metrix under the same aspect are of the same importance\n",
    "2. importance: sales > engagement >= traffic > cost (underlying idea: taking retail's profota) \n",
    "3. will intially obtain aspect metric through averaging sub_metrix"
   ]
  },
  {
   "cell_type": "markdown",
   "metadata": {},
   "source": [
    "Priority Ranking:\n",
    "1. Sales Performance: Revenue directly reflects the store's contribution to the mall's financial success.\n",
    "2. Traffic: High traffic ensures sustained visibility and opportunities for conversions across the mall.\n",
    "3. Engagement: It reflects user experience, contributing to the success of mall's entertainment attribute\n",
    "4. Cost: While important for profitability, it’s secondary to attracting and retaining high-performing tenants."
   ]
  },
  {
   "cell_type": "markdown",
   "metadata": {},
   "source": [
    "### AHP matrix"
   ]
  },
  {
   "cell_type": "code",
   "execution_count": 669,
   "metadata": {},
   "outputs": [],
   "source": [
    "sales = [\"sales_rpv\", \"sales_rpm\", \"sales_re\", \"sales_pm\"]\n",
    "engagement = ['engagement']\n",
    "traffic = [\"traffic_tce\", \"traffic_vr\"]\n",
    "cost = [\"cost_cpm\"]\n",
    "criteria = sales + engagement + traffic + cost\n"
   ]
  },
  {
   "cell_type": "code",
   "execution_count": 670,
   "metadata": {},
   "outputs": [],
   "source": [
    "metrics.rename(columns={'tfc_cst_efc':'traffic_tce', 'visit_rate':'traffic_vr', 'RPV':'sales_rpv', 'RPM':'sales_rpm', \n",
    "                        'RE':'sales_re', 'CPM':'cost_cpm', 'PM':'sales_pm', 'Space_u':'engagement'}, inplace=True)"
   ]
  },
  {
   "cell_type": "code",
   "execution_count": 671,
   "metadata": {},
   "outputs": [],
   "source": [
    "# Pairwise comparison matrix (AHP)\n",
    "M = np.array([\n",
    "    [1,     2,    2.5,    4],  # sales vs others\n",
    "    [1/2,   1,    2,    3],  # engagement vs others\n",
    "    [2/5,   1/2,  1,    2],  # traffic vs others\n",
    "    [1/4,   1/3,  1/2,  1]   # cost vs others\n",
    "], dtype=float)"
   ]
  },
  {
   "cell_type": "markdown",
   "metadata": {},
   "source": [
    "### winsorization and normalization"
   ]
  },
  {
   "cell_type": "code",
   "execution_count": 672,
   "metadata": {},
   "outputs": [
    {
     "data": {
      "text/html": [
       "<div>\n",
       "<style scoped>\n",
       "    .dataframe tbody tr th:only-of-type {\n",
       "        vertical-align: middle;\n",
       "    }\n",
       "\n",
       "    .dataframe tbody tr th {\n",
       "        vertical-align: top;\n",
       "    }\n",
       "\n",
       "    .dataframe thead th {\n",
       "        text-align: right;\n",
       "    }\n",
       "</style>\n",
       "<table border=\"1\" class=\"dataframe\">\n",
       "  <thead>\n",
       "    <tr style=\"text-align: right;\">\n",
       "      <th></th>\n",
       "      <th>sales_rpv</th>\n",
       "      <th>sales_rpm</th>\n",
       "      <th>sales_re</th>\n",
       "      <th>sales_pm</th>\n",
       "      <th>engagement</th>\n",
       "      <th>traffic_tce</th>\n",
       "      <th>traffic_vr</th>\n",
       "      <th>cost_cpm</th>\n",
       "    </tr>\n",
       "  </thead>\n",
       "  <tbody>\n",
       "    <tr>\n",
       "      <th>count</th>\n",
       "      <td>2696.000000</td>\n",
       "      <td>2696.000000</td>\n",
       "      <td>2696.000000</td>\n",
       "      <td>2696.000000</td>\n",
       "      <td>2696.000000</td>\n",
       "      <td>2696.000000</td>\n",
       "      <td>2696.000000</td>\n",
       "      <td>2696.000000</td>\n",
       "    </tr>\n",
       "    <tr>\n",
       "      <th>mean</th>\n",
       "      <td>72.617138</td>\n",
       "      <td>3131.268222</td>\n",
       "      <td>133.297128</td>\n",
       "      <td>0.506107</td>\n",
       "      <td>3.331107</td>\n",
       "      <td>181.970848</td>\n",
       "      <td>0.039114</td>\n",
       "      <td>57.579761</td>\n",
       "    </tr>\n",
       "    <tr>\n",
       "      <th>std</th>\n",
       "      <td>334.382879</td>\n",
       "      <td>11163.078715</td>\n",
       "      <td>536.926978</td>\n",
       "      <td>12.107151</td>\n",
       "      <td>5.815162</td>\n",
       "      <td>224.563500</td>\n",
       "      <td>0.056776</td>\n",
       "      <td>174.939475</td>\n",
       "    </tr>\n",
       "    <tr>\n",
       "      <th>min</th>\n",
       "      <td>0.003685</td>\n",
       "      <td>0.396387</td>\n",
       "      <td>0.001609</td>\n",
       "      <td>-620.374000</td>\n",
       "      <td>0.023414</td>\n",
       "      <td>0.582914</td>\n",
       "      <td>0.000338</td>\n",
       "      <td>0.140316</td>\n",
       "    </tr>\n",
       "    <tr>\n",
       "      <th>25%</th>\n",
       "      <td>2.893680</td>\n",
       "      <td>169.087922</td>\n",
       "      <td>7.917044</td>\n",
       "      <td>0.873689</td>\n",
       "      <td>0.779221</td>\n",
       "      <td>59.774213</td>\n",
       "      <td>0.009899</td>\n",
       "      <td>11.158853</td>\n",
       "    </tr>\n",
       "    <tr>\n",
       "      <th>50%</th>\n",
       "      <td>9.566621</td>\n",
       "      <td>535.739046</td>\n",
       "      <td>22.482203</td>\n",
       "      <td>0.955520</td>\n",
       "      <td>1.500000</td>\n",
       "      <td>121.512100</td>\n",
       "      <td>0.019841</td>\n",
       "      <td>23.467242</td>\n",
       "    </tr>\n",
       "    <tr>\n",
       "      <th>75%</th>\n",
       "      <td>32.011828</td>\n",
       "      <td>1683.737958</td>\n",
       "      <td>66.371001</td>\n",
       "      <td>0.984933</td>\n",
       "      <td>3.428571</td>\n",
       "      <td>227.770461</td>\n",
       "      <td>0.044603</td>\n",
       "      <td>52.583586</td>\n",
       "    </tr>\n",
       "    <tr>\n",
       "      <th>max</th>\n",
       "      <td>9634.972150</td>\n",
       "      <td>169864.125514</td>\n",
       "      <td>9772.530218</td>\n",
       "      <td>0.999898</td>\n",
       "      <td>76.842105</td>\n",
       "      <td>4484.618035</td>\n",
       "      <td>0.790122</td>\n",
       "      <td>4489.553824</td>\n",
       "    </tr>\n",
       "  </tbody>\n",
       "</table>\n",
       "</div>"
      ],
      "text/plain": [
       "         sales_rpv      sales_rpm     sales_re     sales_pm   engagement  \\\n",
       "count  2696.000000    2696.000000  2696.000000  2696.000000  2696.000000   \n",
       "mean     72.617138    3131.268222   133.297128     0.506107     3.331107   \n",
       "std     334.382879   11163.078715   536.926978    12.107151     5.815162   \n",
       "min       0.003685       0.396387     0.001609  -620.374000     0.023414   \n",
       "25%       2.893680     169.087922     7.917044     0.873689     0.779221   \n",
       "50%       9.566621     535.739046    22.482203     0.955520     1.500000   \n",
       "75%      32.011828    1683.737958    66.371001     0.984933     3.428571   \n",
       "max    9634.972150  169864.125514  9772.530218     0.999898    76.842105   \n",
       "\n",
       "       traffic_tce   traffic_vr     cost_cpm  \n",
       "count  2696.000000  2696.000000  2696.000000  \n",
       "mean    181.970848     0.039114    57.579761  \n",
       "std     224.563500     0.056776   174.939475  \n",
       "min       0.582914     0.000338     0.140316  \n",
       "25%      59.774213     0.009899    11.158853  \n",
       "50%     121.512100     0.019841    23.467242  \n",
       "75%     227.770461     0.044603    52.583586  \n",
       "max    4484.618035     0.790122  4489.553824  "
      ]
     },
     "execution_count": 672,
     "metadata": {},
     "output_type": "execute_result"
    }
   ],
   "source": [
    "metrics[criteria].describe()"
   ]
  },
  {
   "cell_type": "code",
   "execution_count": 673,
   "metadata": {},
   "outputs": [
    {
     "data": {
      "text/plain": [
       "1593         0.396387\n",
       "1210         0.461610\n",
       "1097         0.544265\n",
       "148          0.845121\n",
       "2260         1.052957\n",
       "            ...      \n",
       "1225    127173.068667\n",
       "2441    143010.390411\n",
       "1424    150536.274242\n",
       "71      151808.773148\n",
       "343     169864.125514\n",
       "Name: sales_rpm, Length: 2696, dtype: float64"
      ]
     },
     "execution_count": 673,
     "metadata": {},
     "output_type": "execute_result"
    }
   ],
   "source": [
    "metrics['sales_rpm'].sort_values()"
   ]
  },
  {
   "cell_type": "code",
   "execution_count": 674,
   "metadata": {},
   "outputs": [],
   "source": [
    "from scipy.stats.mstats import winsorize"
   ]
  },
  {
   "cell_type": "code",
   "execution_count": 675,
   "metadata": {},
   "outputs": [],
   "source": [
    "# Define percentile limits for winsorization\n",
    "lower_limit = 0.01\n",
    "upper_limit = 0.99\n",
    "\n",
    "# Calculate global thresholds for each column\n",
    "thresholds = {}\n",
    "for col in criteria:\n",
    "    thresholds[col] = {\n",
    "        \"lower\": np.percentile(metrics[col], lower_limit * 100),\n",
    "        \"upper\": np.percentile(metrics[col], upper_limit * 100)\n",
    "    }"
   ]
  },
  {
   "cell_type": "code",
   "execution_count": 676,
   "metadata": {},
   "outputs": [],
   "source": [
    "def is_within_threshold(row, thresholds):\n",
    "    for col, thresh in thresholds.items():\n",
    "        if row[col] < thresh[\"lower\"] or row[col] > thresh[\"upper\"]:\n",
    "            return False\n",
    "    return True\n"
   ]
  },
  {
   "cell_type": "code",
   "execution_count": 677,
   "metadata": {},
   "outputs": [],
   "source": [
    "metrics_filtered = metrics[metrics.apply(lambda row: is_within_threshold(row, thresholds), axis=1)]"
   ]
  },
  {
   "cell_type": "code",
   "execution_count": 678,
   "metadata": {},
   "outputs": [
    {
     "data": {
      "text/plain": [
       "0.9013353115727003"
      ]
     },
     "execution_count": 678,
     "metadata": {},
     "output_type": "execute_result"
    }
   ],
   "source": [
    "metrics_filtered.shape[0]/metrics.shape[0]\n",
    "# 10 are droped"
   ]
  },
  {
   "cell_type": "code",
   "execution_count": 679,
   "metadata": {},
   "outputs": [
    {
     "data": {
      "text/html": [
       "<div>\n",
       "<style scoped>\n",
       "    .dataframe tbody tr th:only-of-type {\n",
       "        vertical-align: middle;\n",
       "    }\n",
       "\n",
       "    .dataframe tbody tr th {\n",
       "        vertical-align: top;\n",
       "    }\n",
       "\n",
       "    .dataframe thead th {\n",
       "        text-align: right;\n",
       "    }\n",
       "</style>\n",
       "<table border=\"1\" class=\"dataframe\">\n",
       "  <thead>\n",
       "    <tr style=\"text-align: right;\">\n",
       "      <th></th>\n",
       "      <th>store_id</th>\n",
       "      <th>block_id</th>\n",
       "      <th>mall_id</th>\n",
       "      <th>external_mall_id</th>\n",
       "      <th>traffic_tce</th>\n",
       "      <th>traffic_vr</th>\n",
       "      <th>sales_rpv</th>\n",
       "      <th>sales_rpm</th>\n",
       "      <th>sales_re</th>\n",
       "      <th>cost_cpm</th>\n",
       "      <th>sales_pm</th>\n",
       "      <th>engagement</th>\n",
       "    </tr>\n",
       "  </thead>\n",
       "  <tbody>\n",
       "    <tr>\n",
       "      <th>count</th>\n",
       "      <td>2430.000000</td>\n",
       "      <td>2430.000000</td>\n",
       "      <td>2430.000000</td>\n",
       "      <td>2430.000000</td>\n",
       "      <td>2430.000000</td>\n",
       "      <td>2430.000000</td>\n",
       "      <td>2430.000000</td>\n",
       "      <td>2430.000000</td>\n",
       "      <td>2430.000000</td>\n",
       "      <td>2430.000000</td>\n",
       "      <td>2430.000000</td>\n",
       "      <td>2430.000000</td>\n",
       "    </tr>\n",
       "    <tr>\n",
       "      <th>mean</th>\n",
       "      <td>5831.421811</td>\n",
       "      <td>5528.364609</td>\n",
       "      <td>27.506173</td>\n",
       "      <td>20.720988</td>\n",
       "      <td>168.389713</td>\n",
       "      <td>0.034991</td>\n",
       "      <td>41.168393</td>\n",
       "      <td>1996.657443</td>\n",
       "      <td>80.149112</td>\n",
       "      <td>44.389301</td>\n",
       "      <td>0.855346</td>\n",
       "      <td>2.875594</td>\n",
       "    </tr>\n",
       "    <tr>\n",
       "      <th>std</th>\n",
       "      <td>3921.499627</td>\n",
       "      <td>2897.273531</td>\n",
       "      <td>24.294961</td>\n",
       "      <td>8.141979</td>\n",
       "      <td>156.855708</td>\n",
       "      <td>0.040855</td>\n",
       "      <td>101.382666</td>\n",
       "      <td>4596.122316</td>\n",
       "      <td>185.041039</td>\n",
       "      <td>61.590473</td>\n",
       "      <td>0.329050</td>\n",
       "      <td>3.694524</td>\n",
       "    </tr>\n",
       "    <tr>\n",
       "      <th>min</th>\n",
       "      <td>1.000000</td>\n",
       "      <td>2.000000</td>\n",
       "      <td>0.000000</td>\n",
       "      <td>7.000000</td>\n",
       "      <td>5.985696</td>\n",
       "      <td>0.001515</td>\n",
       "      <td>0.084213</td>\n",
       "      <td>4.676029</td>\n",
       "      <td>0.275361</td>\n",
       "      <td>0.701492</td>\n",
       "      <td>-2.631599</td>\n",
       "      <td>0.135389</td>\n",
       "    </tr>\n",
       "    <tr>\n",
       "      <th>25%</th>\n",
       "      <td>1909.000000</td>\n",
       "      <td>4308.000000</td>\n",
       "      <td>5.000000</td>\n",
       "      <td>14.000000</td>\n",
       "      <td>61.648912</td>\n",
       "      <td>0.010237</td>\n",
       "      <td>3.025765</td>\n",
       "      <td>182.425672</td>\n",
       "      <td>8.429985</td>\n",
       "      <td>11.727604</td>\n",
       "      <td>0.881376</td>\n",
       "      <td>0.798670</td>\n",
       "    </tr>\n",
       "    <tr>\n",
       "      <th>50%</th>\n",
       "      <td>5426.500000</td>\n",
       "      <td>5983.500000</td>\n",
       "      <td>17.000000</td>\n",
       "      <td>19.000000</td>\n",
       "      <td>121.512100</td>\n",
       "      <td>0.019862</td>\n",
       "      <td>9.433694</td>\n",
       "      <td>534.609825</td>\n",
       "      <td>22.405043</td>\n",
       "      <td>23.564513</td>\n",
       "      <td>0.955367</td>\n",
       "      <td>1.500000</td>\n",
       "    </tr>\n",
       "    <tr>\n",
       "      <th>75%</th>\n",
       "      <td>9912.750000</td>\n",
       "      <td>7083.750000</td>\n",
       "      <td>57.000000</td>\n",
       "      <td>28.000000</td>\n",
       "      <td>222.699440</td>\n",
       "      <td>0.042557</td>\n",
       "      <td>30.168256</td>\n",
       "      <td>1564.259883</td>\n",
       "      <td>61.249625</td>\n",
       "      <td>50.281001</td>\n",
       "      <td>0.983673</td>\n",
       "      <td>3.243243</td>\n",
       "    </tr>\n",
       "    <tr>\n",
       "      <th>max</th>\n",
       "      <td>12427.000000</td>\n",
       "      <td>13815.000000</td>\n",
       "      <td>68.000000</td>\n",
       "      <td>36.000000</td>\n",
       "      <td>991.128297</td>\n",
       "      <td>0.266338</td>\n",
       "      <td>1027.423705</td>\n",
       "      <td>51511.628915</td>\n",
       "      <td>2045.211364</td>\n",
       "      <td>526.696759</td>\n",
       "      <td>0.999511</td>\n",
       "      <td>27.115385</td>\n",
       "    </tr>\n",
       "  </tbody>\n",
       "</table>\n",
       "</div>"
      ],
      "text/plain": [
       "           store_id      block_id      mall_id  external_mall_id  traffic_tce  \\\n",
       "count   2430.000000   2430.000000  2430.000000       2430.000000  2430.000000   \n",
       "mean    5831.421811   5528.364609    27.506173         20.720988   168.389713   \n",
       "std     3921.499627   2897.273531    24.294961          8.141979   156.855708   \n",
       "min        1.000000      2.000000     0.000000          7.000000     5.985696   \n",
       "25%     1909.000000   4308.000000     5.000000         14.000000    61.648912   \n",
       "50%     5426.500000   5983.500000    17.000000         19.000000   121.512100   \n",
       "75%     9912.750000   7083.750000    57.000000         28.000000   222.699440   \n",
       "max    12427.000000  13815.000000    68.000000         36.000000   991.128297   \n",
       "\n",
       "        traffic_vr    sales_rpv     sales_rpm     sales_re     cost_cpm  \\\n",
       "count  2430.000000  2430.000000   2430.000000  2430.000000  2430.000000   \n",
       "mean      0.034991    41.168393   1996.657443    80.149112    44.389301   \n",
       "std       0.040855   101.382666   4596.122316   185.041039    61.590473   \n",
       "min       0.001515     0.084213      4.676029     0.275361     0.701492   \n",
       "25%       0.010237     3.025765    182.425672     8.429985    11.727604   \n",
       "50%       0.019862     9.433694    534.609825    22.405043    23.564513   \n",
       "75%       0.042557    30.168256   1564.259883    61.249625    50.281001   \n",
       "max       0.266338  1027.423705  51511.628915  2045.211364   526.696759   \n",
       "\n",
       "          sales_pm   engagement  \n",
       "count  2430.000000  2430.000000  \n",
       "mean      0.855346     2.875594  \n",
       "std       0.329050     3.694524  \n",
       "min      -2.631599     0.135389  \n",
       "25%       0.881376     0.798670  \n",
       "50%       0.955367     1.500000  \n",
       "75%       0.983673     3.243243  \n",
       "max       0.999511    27.115385  "
      ]
     },
     "execution_count": 679,
     "metadata": {},
     "output_type": "execute_result"
    }
   ],
   "source": [
    "metrics_filtered.describe()"
   ]
  },
  {
   "cell_type": "code",
   "execution_count": 680,
   "metadata": {},
   "outputs": [
    {
     "name": "stderr",
     "output_type": "stream",
     "text": [
      "/var/folders/z9/zf5v62yj5_75v0dwqpq9c7nw0000gn/T/ipykernel_84205/1666876784.py:5: SettingWithCopyWarning: \n",
      "A value is trying to be set on a copy of a slice from a DataFrame.\n",
      "Try using .loc[row_indexer,col_indexer] = value instead\n",
      "\n",
      "See the caveats in the documentation: https://pandas.pydata.org/pandas-docs/stable/user_guide/indexing.html#returning-a-view-versus-a-copy\n",
      "  metrics_filtered[criteria] = min_max_scaler.fit_transform(metrics_filtered[criteria])\n"
     ]
    }
   ],
   "source": [
    "# much better\n",
    "# do normalization\n",
    "from sklearn.preprocessing import MinMaxScaler, StandardScaler\n",
    "min_max_scaler = MinMaxScaler()\n",
    "metrics_filtered[criteria] = min_max_scaler.fit_transform(metrics_filtered[criteria])"
   ]
  },
  {
   "cell_type": "code",
   "execution_count": 681,
   "metadata": {},
   "outputs": [
    {
     "data": {
      "text/html": [
       "<div>\n",
       "<style scoped>\n",
       "    .dataframe tbody tr th:only-of-type {\n",
       "        vertical-align: middle;\n",
       "    }\n",
       "\n",
       "    .dataframe tbody tr th {\n",
       "        vertical-align: top;\n",
       "    }\n",
       "\n",
       "    .dataframe thead th {\n",
       "        text-align: right;\n",
       "    }\n",
       "</style>\n",
       "<table border=\"1\" class=\"dataframe\">\n",
       "  <thead>\n",
       "    <tr style=\"text-align: right;\">\n",
       "      <th></th>\n",
       "      <th>sales_rpv</th>\n",
       "      <th>sales_rpm</th>\n",
       "      <th>sales_re</th>\n",
       "      <th>sales_pm</th>\n",
       "      <th>engagement</th>\n",
       "      <th>traffic_tce</th>\n",
       "      <th>traffic_vr</th>\n",
       "      <th>cost_cpm</th>\n",
       "    </tr>\n",
       "  </thead>\n",
       "  <tbody>\n",
       "    <tr>\n",
       "      <th>count</th>\n",
       "      <td>2430.000000</td>\n",
       "      <td>2430.000000</td>\n",
       "      <td>2430.000000</td>\n",
       "      <td>2430.000000</td>\n",
       "      <td>2430.000000</td>\n",
       "      <td>2430.000000</td>\n",
       "      <td>2430.000000</td>\n",
       "      <td>2430.000000</td>\n",
       "    </tr>\n",
       "    <tr>\n",
       "      <th>mean</th>\n",
       "      <td>0.039991</td>\n",
       "      <td>0.038674</td>\n",
       "      <td>0.039059</td>\n",
       "      <td>0.960297</td>\n",
       "      <td>0.101564</td>\n",
       "      <td>0.164853</td>\n",
       "      <td>0.126409</td>\n",
       "      <td>0.083057</td>\n",
       "    </tr>\n",
       "    <tr>\n",
       "      <th>std</th>\n",
       "      <td>0.098685</td>\n",
       "      <td>0.089233</td>\n",
       "      <td>0.090487</td>\n",
       "      <td>0.090620</td>\n",
       "      <td>0.136936</td>\n",
       "      <td>0.159221</td>\n",
       "      <td>0.154274</td>\n",
       "      <td>0.117093</td>\n",
       "    </tr>\n",
       "    <tr>\n",
       "      <th>min</th>\n",
       "      <td>0.000000</td>\n",
       "      <td>0.000000</td>\n",
       "      <td>0.000000</td>\n",
       "      <td>0.000000</td>\n",
       "      <td>0.000000</td>\n",
       "      <td>0.000000</td>\n",
       "      <td>0.000000</td>\n",
       "      <td>0.000000</td>\n",
       "    </tr>\n",
       "    <tr>\n",
       "      <th>25%</th>\n",
       "      <td>0.002863</td>\n",
       "      <td>0.003451</td>\n",
       "      <td>0.003988</td>\n",
       "      <td>0.967466</td>\n",
       "      <td>0.024584</td>\n",
       "      <td>0.056503</td>\n",
       "      <td>0.032935</td>\n",
       "      <td>0.020962</td>\n",
       "    </tr>\n",
       "    <tr>\n",
       "      <th>50%</th>\n",
       "      <td>0.009101</td>\n",
       "      <td>0.010289</td>\n",
       "      <td>0.010822</td>\n",
       "      <td>0.987843</td>\n",
       "      <td>0.050579</td>\n",
       "      <td>0.117269</td>\n",
       "      <td>0.069281</td>\n",
       "      <td>0.043466</td>\n",
       "    </tr>\n",
       "    <tr>\n",
       "      <th>75%</th>\n",
       "      <td>0.029283</td>\n",
       "      <td>0.030279</td>\n",
       "      <td>0.029817</td>\n",
       "      <td>0.995638</td>\n",
       "      <td>0.115191</td>\n",
       "      <td>0.219982</td>\n",
       "      <td>0.154979</td>\n",
       "      <td>0.094258</td>\n",
       "    </tr>\n",
       "    <tr>\n",
       "      <th>max</th>\n",
       "      <td>1.000000</td>\n",
       "      <td>1.000000</td>\n",
       "      <td>1.000000</td>\n",
       "      <td>1.000000</td>\n",
       "      <td>1.000000</td>\n",
       "      <td>1.000000</td>\n",
       "      <td>1.000000</td>\n",
       "      <td>1.000000</td>\n",
       "    </tr>\n",
       "  </tbody>\n",
       "</table>\n",
       "</div>"
      ],
      "text/plain": [
       "         sales_rpv    sales_rpm     sales_re     sales_pm   engagement  \\\n",
       "count  2430.000000  2430.000000  2430.000000  2430.000000  2430.000000   \n",
       "mean      0.039991     0.038674     0.039059     0.960297     0.101564   \n",
       "std       0.098685     0.089233     0.090487     0.090620     0.136936   \n",
       "min       0.000000     0.000000     0.000000     0.000000     0.000000   \n",
       "25%       0.002863     0.003451     0.003988     0.967466     0.024584   \n",
       "50%       0.009101     0.010289     0.010822     0.987843     0.050579   \n",
       "75%       0.029283     0.030279     0.029817     0.995638     0.115191   \n",
       "max       1.000000     1.000000     1.000000     1.000000     1.000000   \n",
       "\n",
       "       traffic_tce   traffic_vr     cost_cpm  \n",
       "count  2430.000000  2430.000000  2430.000000  \n",
       "mean      0.164853     0.126409     0.083057  \n",
       "std       0.159221     0.154274     0.117093  \n",
       "min       0.000000     0.000000     0.000000  \n",
       "25%       0.056503     0.032935     0.020962  \n",
       "50%       0.117269     0.069281     0.043466  \n",
       "75%       0.219982     0.154979     0.094258  \n",
       "max       1.000000     1.000000     1.000000  "
      ]
     },
     "execution_count": 681,
     "metadata": {},
     "output_type": "execute_result"
    }
   ],
   "source": [
    "metrics_filtered[criteria].describe()"
   ]
  },
  {
   "cell_type": "code",
   "execution_count": 682,
   "metadata": {},
   "outputs": [
    {
     "name": "stderr",
     "output_type": "stream",
     "text": [
      "/var/folders/z9/zf5v62yj5_75v0dwqpq9c7nw0000gn/T/ipykernel_84205/470875187.py:2: SettingWithCopyWarning: \n",
      "A value is trying to be set on a copy of a slice from a DataFrame.\n",
      "Try using .loc[row_indexer,col_indexer] = value instead\n",
      "\n",
      "See the caveats in the documentation: https://pandas.pydata.org/pandas-docs/stable/user_guide/indexing.html#returning-a-view-versus-a-copy\n",
      "  metrics_filtered['sales'] = metrics_filtered[sales].mean(axis=1)\n",
      "/var/folders/z9/zf5v62yj5_75v0dwqpq9c7nw0000gn/T/ipykernel_84205/470875187.py:3: SettingWithCopyWarning: \n",
      "A value is trying to be set on a copy of a slice from a DataFrame.\n",
      "Try using .loc[row_indexer,col_indexer] = value instead\n",
      "\n",
      "See the caveats in the documentation: https://pandas.pydata.org/pandas-docs/stable/user_guide/indexing.html#returning-a-view-versus-a-copy\n",
      "  metrics_filtered['traffic'] = metrics_filtered[traffic].mean(axis=1)\n",
      "/var/folders/z9/zf5v62yj5_75v0dwqpq9c7nw0000gn/T/ipykernel_84205/470875187.py:4: SettingWithCopyWarning: \n",
      "A value is trying to be set on a copy of a slice from a DataFrame.\n",
      "Try using .loc[row_indexer,col_indexer] = value instead\n",
      "\n",
      "See the caveats in the documentation: https://pandas.pydata.org/pandas-docs/stable/user_guide/indexing.html#returning-a-view-versus-a-copy\n",
      "  metrics_filtered['cost'] = metrics_filtered[cost].mean(axis=1)\n"
     ]
    }
   ],
   "source": [
    "# generate metrics for each aspect\n",
    "metrics_filtered['sales'] = metrics_filtered[sales].mean(axis=1)\n",
    "metrics_filtered['traffic'] = metrics_filtered[traffic].mean(axis=1)\n",
    "metrics_filtered['cost'] = metrics_filtered[cost].mean(axis=1)"
   ]
  },
  {
   "cell_type": "code",
   "execution_count": 683,
   "metadata": {},
   "outputs": [],
   "source": [
    "metrics_filtered = metrics_filtered[['store_id', 'block_id', 'mall_id', 'external_mall_id', 'sales', 'engagement', 'traffic', 'cost']]"
   ]
  },
  {
   "cell_type": "code",
   "execution_count": 684,
   "metadata": {},
   "outputs": [
    {
     "data": {
      "text/html": [
       "<div>\n",
       "<style scoped>\n",
       "    .dataframe tbody tr th:only-of-type {\n",
       "        vertical-align: middle;\n",
       "    }\n",
       "\n",
       "    .dataframe tbody tr th {\n",
       "        vertical-align: top;\n",
       "    }\n",
       "\n",
       "    .dataframe thead th {\n",
       "        text-align: right;\n",
       "    }\n",
       "</style>\n",
       "<table border=\"1\" class=\"dataframe\">\n",
       "  <thead>\n",
       "    <tr style=\"text-align: right;\">\n",
       "      <th></th>\n",
       "      <th>store_id</th>\n",
       "      <th>block_id</th>\n",
       "      <th>mall_id</th>\n",
       "      <th>external_mall_id</th>\n",
       "      <th>sales</th>\n",
       "      <th>engagement</th>\n",
       "      <th>traffic</th>\n",
       "      <th>cost</th>\n",
       "    </tr>\n",
       "  </thead>\n",
       "  <tbody>\n",
       "    <tr>\n",
       "      <th>0</th>\n",
       "      <td>9257.0</td>\n",
       "      <td>11273</td>\n",
       "      <td>54.0</td>\n",
       "      <td>18</td>\n",
       "      <td>0.254372</td>\n",
       "      <td>0.059132</td>\n",
       "      <td>0.099746</td>\n",
       "      <td>0.064671</td>\n",
       "    </tr>\n",
       "    <tr>\n",
       "      <th>1</th>\n",
       "      <td>9443.0</td>\n",
       "      <td>11271</td>\n",
       "      <td>54.0</td>\n",
       "      <td>18</td>\n",
       "      <td>0.427303</td>\n",
       "      <td>0.016892</td>\n",
       "      <td>0.062214</td>\n",
       "      <td>0.039061</td>\n",
       "    </tr>\n",
       "    <tr>\n",
       "      <th>2</th>\n",
       "      <td>5697.0</td>\n",
       "      <td>4319</td>\n",
       "      <td>15.0</td>\n",
       "      <td>17</td>\n",
       "      <td>0.293628</td>\n",
       "      <td>0.396514</td>\n",
       "      <td>0.053296</td>\n",
       "      <td>0.080685</td>\n",
       "    </tr>\n",
       "    <tr>\n",
       "      <th>3</th>\n",
       "      <td>7179.0</td>\n",
       "      <td>1201</td>\n",
       "      <td>35.0</td>\n",
       "      <td>36</td>\n",
       "      <td>0.248701</td>\n",
       "      <td>0.078117</td>\n",
       "      <td>0.106422</td>\n",
       "      <td>0.179122</td>\n",
       "    </tr>\n",
       "    <tr>\n",
       "      <th>4</th>\n",
       "      <td>7288.0</td>\n",
       "      <td>1212</td>\n",
       "      <td>35.0</td>\n",
       "      <td>36</td>\n",
       "      <td>0.234509</td>\n",
       "      <td>0.016365</td>\n",
       "      <td>0.051095</td>\n",
       "      <td>0.065329</td>\n",
       "    </tr>\n",
       "    <tr>\n",
       "      <th>...</th>\n",
       "      <td>...</td>\n",
       "      <td>...</td>\n",
       "      <td>...</td>\n",
       "      <td>...</td>\n",
       "      <td>...</td>\n",
       "      <td>...</td>\n",
       "      <td>...</td>\n",
       "      <td>...</td>\n",
       "    </tr>\n",
       "    <tr>\n",
       "      <th>2691</th>\n",
       "      <td>10065.0</td>\n",
       "      <td>6009</td>\n",
       "      <td>57.0</td>\n",
       "      <td>23</td>\n",
       "      <td>0.255821</td>\n",
       "      <td>0.014153</td>\n",
       "      <td>0.148827</td>\n",
       "      <td>0.013136</td>\n",
       "    </tr>\n",
       "    <tr>\n",
       "      <th>2692</th>\n",
       "      <td>11292.0</td>\n",
       "      <td>6514</td>\n",
       "      <td>64.0</td>\n",
       "      <td>26</td>\n",
       "      <td>0.239921</td>\n",
       "      <td>0.030564</td>\n",
       "      <td>0.142561</td>\n",
       "      <td>0.046544</td>\n",
       "    </tr>\n",
       "    <tr>\n",
       "      <th>2693</th>\n",
       "      <td>1171.0</td>\n",
       "      <td>4706</td>\n",
       "      <td>4.0</td>\n",
       "      <td>10</td>\n",
       "      <td>0.271224</td>\n",
       "      <td>0.194880</td>\n",
       "      <td>0.048717</td>\n",
       "      <td>0.218667</td>\n",
       "    </tr>\n",
       "    <tr>\n",
       "      <th>2694</th>\n",
       "      <td>1391.0</td>\n",
       "      <td>4535</td>\n",
       "      <td>4.0</td>\n",
       "      <td>10</td>\n",
       "      <td>0.199458</td>\n",
       "      <td>0.022313</td>\n",
       "      <td>0.383761</td>\n",
       "      <td>0.009283</td>\n",
       "    </tr>\n",
       "    <tr>\n",
       "      <th>2695</th>\n",
       "      <td>2232.0</td>\n",
       "      <td>6891</td>\n",
       "      <td>5.0</td>\n",
       "      <td>33</td>\n",
       "      <td>0.280265</td>\n",
       "      <td>0.064623</td>\n",
       "      <td>0.140875</td>\n",
       "      <td>0.031379</td>\n",
       "    </tr>\n",
       "  </tbody>\n",
       "</table>\n",
       "<p>2430 rows × 8 columns</p>\n",
       "</div>"
      ],
      "text/plain": [
       "      store_id  block_id  mall_id  external_mall_id     sales  engagement  \\\n",
       "0       9257.0     11273     54.0                18  0.254372    0.059132   \n",
       "1       9443.0     11271     54.0                18  0.427303    0.016892   \n",
       "2       5697.0      4319     15.0                17  0.293628    0.396514   \n",
       "3       7179.0      1201     35.0                36  0.248701    0.078117   \n",
       "4       7288.0      1212     35.0                36  0.234509    0.016365   \n",
       "...        ...       ...      ...               ...       ...         ...   \n",
       "2691   10065.0      6009     57.0                23  0.255821    0.014153   \n",
       "2692   11292.0      6514     64.0                26  0.239921    0.030564   \n",
       "2693    1171.0      4706      4.0                10  0.271224    0.194880   \n",
       "2694    1391.0      4535      4.0                10  0.199458    0.022313   \n",
       "2695    2232.0      6891      5.0                33  0.280265    0.064623   \n",
       "\n",
       "       traffic      cost  \n",
       "0     0.099746  0.064671  \n",
       "1     0.062214  0.039061  \n",
       "2     0.053296  0.080685  \n",
       "3     0.106422  0.179122  \n",
       "4     0.051095  0.065329  \n",
       "...        ...       ...  \n",
       "2691  0.148827  0.013136  \n",
       "2692  0.142561  0.046544  \n",
       "2693  0.048717  0.218667  \n",
       "2694  0.383761  0.009283  \n",
       "2695  0.140875  0.031379  \n",
       "\n",
       "[2430 rows x 8 columns]"
      ]
     },
     "execution_count": 684,
     "metadata": {},
     "output_type": "execute_result"
    }
   ],
   "source": [
    "metrics_filtered"
   ]
  },
  {
   "cell_type": "markdown",
   "metadata": {},
   "source": [
    "### calculate the weights"
   ]
  },
  {
   "cell_type": "code",
   "execution_count": 685,
   "metadata": {},
   "outputs": [],
   "source": [
    "def ahp_weights(pairwise_matrix):\n",
    "    \"\"\"\n",
    "    Given a pairwise comparison matrix, returns (weights, CR).\n",
    "    weights: 1D numpy array of derived weights\n",
    "    CR: consistency ratio\n",
    "    \"\"\"\n",
    "    # 1. Normalize columns\n",
    "    col_sum = pairwise_matrix.sum(axis=0)\n",
    "    normalized = pairwise_matrix / col_sum\n",
    "    \n",
    "    # 2. Average each row -> priority vector\n",
    "    weights = normalized.mean(axis=1)\n",
    "    \n",
    "    # 3. Consistency check\n",
    "    # Compute lambda_max\n",
    "    n = pairwise_matrix.shape[0]\n",
    "    lamda_max = (col_sum * weights).sum()\n",
    "    \n",
    "    # Consistency Index (CI)\n",
    "    CI = (lamda_max - n) / (n - 1)\n",
    "    \n",
    "    # Random Index (RI) for n=4 (AHP standard table) is about 0.90\n",
    "    # (You can adjust if you have a more precise reference table)\n",
    "    RI = 0.90\n",
    "    \n",
    "    CR = CI / RI\n",
    "    \n",
    "    return weights, CR\n",
    "\n",
    "weights, CR = ahp_weights(M)"
   ]
  },
  {
   "cell_type": "code",
   "execution_count": 686,
   "metadata": {},
   "outputs": [],
   "source": [
    "criteria = ['sales',\n",
    "       'engagement', 'traffic', 'cost']"
   ]
  },
  {
   "cell_type": "code",
   "execution_count": 687,
   "metadata": {},
   "outputs": [
    {
     "name": "stdout",
     "output_type": "stream",
     "text": [
      "Derived AHP weights for each criterion:\n",
      "  sales: 0.451\n",
      "  engagement: 0.282\n",
      "  traffic: 0.171\n",
      "  cost: 0.097\n",
      "\n",
      "AHP Consistency Ratio (CR): 0.015\n"
     ]
    }
   ],
   "source": [
    "print(\"Derived AHP weights for each criterion:\")\n",
    "for c, w in zip(criteria, weights):\n",
    "    print(f\"  {c}: {w:.3f}\")\n",
    "\n",
    "print(f\"\\nAHP Consistency Ratio (CR): {CR:.3f}\")\n"
   ]
  },
  {
   "cell_type": "markdown",
   "metadata": {},
   "source": [
    "since the CR is smaller than 0.1, it's considered consistent"
   ]
  },
  {
   "cell_type": "markdown",
   "metadata": {},
   "source": [
    "### topsis"
   ]
  },
  {
   "cell_type": "code",
   "execution_count": 688,
   "metadata": {},
   "outputs": [],
   "source": [
    "def topsis(df, criteria, weights, beneficial):\n",
    "    \"\"\"\n",
    "    Perform TOPSIS given:\n",
    "    - df: DataFrame with columns = criteria, rows = stores\n",
    "    - criteria: list of criterion names in the same order as 'weights' and 'beneficial'\n",
    "    - weights: AHP-derived weights (1D array or list)\n",
    "    - beneficial: list of booleans; True if criterion is beneficial, False if cost-like\n",
    "    \n",
    "    Returns: DataFrame with the final closeness scores and ranks.\n",
    "    \"\"\"\n",
    "    # 1. Extract numerical data as matrix\n",
    "    data_matrix = df[criteria].values.astype(float)\n",
    "    n_stores, n_criteria = data_matrix.shape\n",
    "    \n",
    "    # 2. Normalize columns\n",
    "    # denominator for each column = sqrt of sum of squares\n",
    "    denom = np.sqrt((data_matrix ** 2).sum(axis=0))\n",
    "    norm_matrix = data_matrix / denom\n",
    "    \n",
    "    # 3. Multiply by weights\n",
    "    weighted_matrix = norm_matrix * weights\n",
    "    \n",
    "    # 4. Determine ideal (best) and negative-ideal (worst) for each criterion\n",
    "    ideal_solution = np.zeros(n_criteria)\n",
    "    neg_ideal_solution = np.zeros(n_criteria)\n",
    "    \n",
    "    for j in range(n_criteria):\n",
    "        if beneficial[j]:\n",
    "            ideal_solution[j] = weighted_matrix[:, j].max()\n",
    "            neg_ideal_solution[j] = weighted_matrix[:, j].min()\n",
    "        else:\n",
    "            # For non-beneficial (cost), ideal is min, negative-ideal is max\n",
    "            ideal_solution[j] = weighted_matrix[:, j].min()\n",
    "            neg_ideal_solution[j] = weighted_matrix[:, j].max()\n",
    "    \n",
    "    # 5. Calculate distances\n",
    "    dist_to_ideal = np.sqrt(((weighted_matrix - ideal_solution) ** 2).sum(axis=1))\n",
    "    dist_to_neg_ideal = np.sqrt(((weighted_matrix - neg_ideal_solution) ** 2).sum(axis=1))\n",
    "    \n",
    "    # 6. Calculate relative closeness\n",
    "    closeness = dist_to_neg_ideal / (dist_to_ideal + dist_to_neg_ideal)\n",
    "    \n",
    "    # 7. Create result DataFrame\n",
    "    result_df = df.copy()\n",
    "    result_df[\"TOPSIS_Closeness\"] = closeness\n",
    "    # Higher closeness -> better rank\n",
    "    result_df[\"Rank\"] = result_df[\"TOPSIS_Closeness\"].rank(ascending=False, method='dense').astype(int)\n",
    "    \n",
    "    return result_df.sort_values(\"TOPSIS_Closeness\", ascending=False)"
   ]
  },
  {
   "cell_type": "markdown",
   "metadata": {},
   "source": [
    "### obtain the rank"
   ]
  },
  {
   "cell_type": "code",
   "execution_count": 690,
   "metadata": {},
   "outputs": [
    {
     "data": {
      "text/html": [
       "<div>\n",
       "<style scoped>\n",
       "    .dataframe tbody tr th:only-of-type {\n",
       "        vertical-align: middle;\n",
       "    }\n",
       "\n",
       "    .dataframe tbody tr th {\n",
       "        vertical-align: top;\n",
       "    }\n",
       "\n",
       "    .dataframe thead th {\n",
       "        text-align: right;\n",
       "    }\n",
       "</style>\n",
       "<table border=\"1\" class=\"dataframe\">\n",
       "  <thead>\n",
       "    <tr style=\"text-align: right;\">\n",
       "      <th></th>\n",
       "      <th>store_id</th>\n",
       "      <th>block_id</th>\n",
       "      <th>mall_id</th>\n",
       "      <th>external_mall_id</th>\n",
       "      <th>sales</th>\n",
       "      <th>engagement</th>\n",
       "      <th>traffic</th>\n",
       "      <th>cost</th>\n",
       "      <th>TOPSIS_Closeness</th>\n",
       "      <th>Rank</th>\n",
       "    </tr>\n",
       "  </thead>\n",
       "  <tbody>\n",
       "    <tr>\n",
       "      <th>66</th>\n",
       "      <td>4384.0</td>\n",
       "      <td>6677</td>\n",
       "      <td>26.0</td>\n",
       "      <td>22</td>\n",
       "      <td>0.622756</td>\n",
       "      <td>0.671812</td>\n",
       "      <td>0.043457</td>\n",
       "      <td>0.243480</td>\n",
       "      <td>0.664139</td>\n",
       "      <td>1</td>\n",
       "    </tr>\n",
       "    <tr>\n",
       "      <th>1345</th>\n",
       "      <td>511.0</td>\n",
       "      <td>7098</td>\n",
       "      <td>1.0</td>\n",
       "      <td>19</td>\n",
       "      <td>0.289161</td>\n",
       "      <td>1.000000</td>\n",
       "      <td>0.040449</td>\n",
       "      <td>0.247065</td>\n",
       "      <td>0.642234</td>\n",
       "      <td>2</td>\n",
       "    </tr>\n",
       "    <tr>\n",
       "      <th>1155</th>\n",
       "      <td>12117.0</td>\n",
       "      <td>11480</td>\n",
       "      <td>68.0</td>\n",
       "      <td>32</td>\n",
       "      <td>0.257096</td>\n",
       "      <td>0.966826</td>\n",
       "      <td>0.013247</td>\n",
       "      <td>0.208264</td>\n",
       "      <td>0.621835</td>\n",
       "      <td>3</td>\n",
       "    </tr>\n",
       "    <tr>\n",
       "      <th>973</th>\n",
       "      <td>11324.0</td>\n",
       "      <td>6449</td>\n",
       "      <td>64.0</td>\n",
       "      <td>26</td>\n",
       "      <td>0.309662</td>\n",
       "      <td>0.886701</td>\n",
       "      <td>0.033031</td>\n",
       "      <td>0.158803</td>\n",
       "      <td>0.616156</td>\n",
       "      <td>4</td>\n",
       "    </tr>\n",
       "    <tr>\n",
       "      <th>2439</th>\n",
       "      <td>5779.0</td>\n",
       "      <td>4403</td>\n",
       "      <td>15.0</td>\n",
       "      <td>17</td>\n",
       "      <td>0.494184</td>\n",
       "      <td>0.717740</td>\n",
       "      <td>0.082490</td>\n",
       "      <td>0.034596</td>\n",
       "      <td>0.611865</td>\n",
       "      <td>5</td>\n",
       "    </tr>\n",
       "    <tr>\n",
       "      <th>...</th>\n",
       "      <td>...</td>\n",
       "      <td>...</td>\n",
       "      <td>...</td>\n",
       "      <td>...</td>\n",
       "      <td>...</td>\n",
       "      <td>...</td>\n",
       "      <td>...</td>\n",
       "      <td>...</td>\n",
       "      <td>...</td>\n",
       "      <td>...</td>\n",
       "    </tr>\n",
       "    <tr>\n",
       "      <th>1533</th>\n",
       "      <td>2207.0</td>\n",
       "      <td>6885</td>\n",
       "      <td>5.0</td>\n",
       "      <td>33</td>\n",
       "      <td>0.238697</td>\n",
       "      <td>0.005513</td>\n",
       "      <td>0.490538</td>\n",
       "      <td>0.004007</td>\n",
       "      <td>0.167975</td>\n",
       "      <td>2426</td>\n",
       "    </tr>\n",
       "    <tr>\n",
       "      <th>943</th>\n",
       "      <td>12109.0</td>\n",
       "      <td>11487</td>\n",
       "      <td>68.0</td>\n",
       "      <td>32</td>\n",
       "      <td>0.255709</td>\n",
       "      <td>0.000906</td>\n",
       "      <td>0.602363</td>\n",
       "      <td>0.000305</td>\n",
       "      <td>0.166443</td>\n",
       "      <td>2427</td>\n",
       "    </tr>\n",
       "    <tr>\n",
       "      <th>2038</th>\n",
       "      <td>4760.0</td>\n",
       "      <td>5066</td>\n",
       "      <td>17.0</td>\n",
       "      <td>14</td>\n",
       "      <td>0.244244</td>\n",
       "      <td>0.003234</td>\n",
       "      <td>0.537428</td>\n",
       "      <td>0.000549</td>\n",
       "      <td>0.165224</td>\n",
       "      <td>2428</td>\n",
       "    </tr>\n",
       "    <tr>\n",
       "      <th>683</th>\n",
       "      <td>4667.0</td>\n",
       "      <td>2834</td>\n",
       "      <td>19.0</td>\n",
       "      <td>12</td>\n",
       "      <td>0.234331</td>\n",
       "      <td>0.011647</td>\n",
       "      <td>0.522639</td>\n",
       "      <td>0.002414</td>\n",
       "      <td>0.162098</td>\n",
       "      <td>2429</td>\n",
       "    </tr>\n",
       "    <tr>\n",
       "      <th>933</th>\n",
       "      <td>9866.0</td>\n",
       "      <td>5828</td>\n",
       "      <td>59.0</td>\n",
       "      <td>28</td>\n",
       "      <td>0.231310</td>\n",
       "      <td>0.002627</td>\n",
       "      <td>0.570917</td>\n",
       "      <td>0.001948</td>\n",
       "      <td>0.154551</td>\n",
       "      <td>2430</td>\n",
       "    </tr>\n",
       "  </tbody>\n",
       "</table>\n",
       "<p>2430 rows × 10 columns</p>\n",
       "</div>"
      ],
      "text/plain": [
       "      store_id  block_id  mall_id  external_mall_id     sales  engagement  \\\n",
       "66      4384.0      6677     26.0                22  0.622756    0.671812   \n",
       "1345     511.0      7098      1.0                19  0.289161    1.000000   \n",
       "1155   12117.0     11480     68.0                32  0.257096    0.966826   \n",
       "973    11324.0      6449     64.0                26  0.309662    0.886701   \n",
       "2439    5779.0      4403     15.0                17  0.494184    0.717740   \n",
       "...        ...       ...      ...               ...       ...         ...   \n",
       "1533    2207.0      6885      5.0                33  0.238697    0.005513   \n",
       "943    12109.0     11487     68.0                32  0.255709    0.000906   \n",
       "2038    4760.0      5066     17.0                14  0.244244    0.003234   \n",
       "683     4667.0      2834     19.0                12  0.234331    0.011647   \n",
       "933     9866.0      5828     59.0                28  0.231310    0.002627   \n",
       "\n",
       "       traffic      cost  TOPSIS_Closeness  Rank  \n",
       "66    0.043457  0.243480          0.664139     1  \n",
       "1345  0.040449  0.247065          0.642234     2  \n",
       "1155  0.013247  0.208264          0.621835     3  \n",
       "973   0.033031  0.158803          0.616156     4  \n",
       "2439  0.082490  0.034596          0.611865     5  \n",
       "...        ...       ...               ...   ...  \n",
       "1533  0.490538  0.004007          0.167975  2426  \n",
       "943   0.602363  0.000305          0.166443  2427  \n",
       "2038  0.537428  0.000549          0.165224  2428  \n",
       "683   0.522639  0.002414          0.162098  2429  \n",
       "933   0.570917  0.001948          0.154551  2430  \n",
       "\n",
       "[2430 rows x 10 columns]"
      ]
     },
     "execution_count": 690,
     "metadata": {},
     "output_type": "execute_result"
    }
   ],
   "source": [
    "# Define beneficial vs. non-beneficial\n",
    "# True = beneficial, False = non-beneficial\n",
    "beneficial_criteria = [True, True, False, True]  # Traffic, Sales, Cost, Engagement\n",
    "\n",
    "# Calculate final ranking\n",
    "results = topsis(metrics_filtered, criteria, weights, beneficial_criteria)\n",
    "\n",
    "# Print the final results\n",
    "results\n"
   ]
  },
  {
   "cell_type": "code",
   "execution_count": null,
   "metadata": {},
   "outputs": [],
   "source": []
  }
 ],
 "metadata": {
  "kernelspec": {
   "display_name": "foo-env",
   "language": "python",
   "name": "python3"
  },
  "language_info": {
   "codemirror_mode": {
    "name": "ipython",
    "version": 3
   },
   "file_extension": ".py",
   "mimetype": "text/x-python",
   "name": "python",
   "nbconvert_exporter": "python",
   "pygments_lexer": "ipython3",
   "version": "3.10.15"
  }
 },
 "nbformat": 4,
 "nbformat_minor": 2
}
