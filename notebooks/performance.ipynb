{
 "cells": [
  {
   "cell_type": "code",
   "execution_count": 335,
   "metadata": {},
   "outputs": [],
   "source": [
    "import pandas as pd\n",
    "import os"
   ]
  },
  {
   "cell_type": "code",
   "execution_count": 336,
   "metadata": {},
   "outputs": [
    {
     "name": "stdout",
     "output_type": "stream",
     "text": [
      "/Users/kumo/hec/courses/data_challenge_uw/Data-Challenge-URW-HEC/raw_data\n",
      "/Users/kumo/hec/courses/data_challenge_uw/Data-Challenge-URW-HEC/raw_data\n"
     ]
    }
   ],
   "source": [
    "print(os.getcwd())\n",
    "os.chdir('../raw_data')\n",
    "print(os.getcwd())"
   ]
  },
  {
   "cell_type": "code",
   "execution_count": 337,
   "metadata": {},
   "outputs": [
    {
     "data": {
      "text/html": [
       "<div>\n",
       "<style scoped>\n",
       "    .dataframe tbody tr th:only-of-type {\n",
       "        vertical-align: middle;\n",
       "    }\n",
       "\n",
       "    .dataframe tbody tr th {\n",
       "        vertical-align: top;\n",
       "    }\n",
       "\n",
       "    .dataframe thead th {\n",
       "        text-align: right;\n",
       "    }\n",
       "</style>\n",
       "<table border=\"1\" class=\"dataframe\">\n",
       "  <thead>\n",
       "    <tr style=\"text-align: right;\">\n",
       "      <th></th>\n",
       "      <th>Unnamed: 0</th>\n",
       "      <th>external_mall_id</th>\n",
       "      <th>block_id</th>\n",
       "      <th>average_dwell_time</th>\n",
       "      <th>median_dwell_time</th>\n",
       "      <th>store_id</th>\n",
       "      <th>store_visits_monthly_average</th>\n",
       "      <th>store_window_flow_monthly_average</th>\n",
       "      <th>store_visits_daily_average</th>\n",
       "      <th>store_window_flow_daily_average</th>\n",
       "      <th>...</th>\n",
       "      <th>store_branch_level_1</th>\n",
       "      <th>store_branch_level_2</th>\n",
       "      <th>store_branch_level_3</th>\n",
       "      <th>store_sales_r12m</th>\n",
       "      <th>store_rent_r12m</th>\n",
       "      <th>store_area</th>\n",
       "      <th>service_charges_r12m</th>\n",
       "      <th>marketing_costs_r12m</th>\n",
       "      <th>real_estate_taxes_r12m</th>\n",
       "      <th>maintenance_works_r12m</th>\n",
       "    </tr>\n",
       "  </thead>\n",
       "  <tbody>\n",
       "    <tr>\n",
       "      <th>0</th>\n",
       "      <td>0</td>\n",
       "      <td>18</td>\n",
       "      <td>11273</td>\n",
       "      <td>249.520051</td>\n",
       "      <td>180.0</td>\n",
       "      <td>9257.0</td>\n",
       "      <td>9810.25</td>\n",
       "      <td>472952.50</td>\n",
       "      <td>509.62</td>\n",
       "      <td>24568.96</td>\n",
       "      <td>...</td>\n",
       "      <td>Jewellery</td>\n",
       "      <td>Jewellery &amp; Watches</td>\n",
       "      <td>Modern Jewellery &amp; Watches</td>\n",
       "      <td>886377.00</td>\n",
       "      <td>NaN</td>\n",
       "      <td>104.0</td>\n",
       "      <td>25034.0</td>\n",
       "      <td>0.0</td>\n",
       "      <td>11957.0</td>\n",
       "      <td>6337.0</td>\n",
       "    </tr>\n",
       "    <tr>\n",
       "      <th>1</th>\n",
       "      <td>1</td>\n",
       "      <td>18</td>\n",
       "      <td>11271</td>\n",
       "      <td>190.005359</td>\n",
       "      <td>120.0</td>\n",
       "      <td>9443.0</td>\n",
       "      <td>4891.25</td>\n",
       "      <td>362107.00</td>\n",
       "      <td>254.09</td>\n",
       "      <td>18810.75</td>\n",
       "      <td>...</td>\n",
       "      <td>Fashion apparel</td>\n",
       "      <td>Family Fashion</td>\n",
       "      <td>Family Fashion</td>\n",
       "      <td>20883319.00</td>\n",
       "      <td>NaN</td>\n",
       "      <td>203.0</td>\n",
       "      <td>33465.0</td>\n",
       "      <td>0.0</td>\n",
       "      <td>11957.0</td>\n",
       "      <td>6337.0</td>\n",
       "    </tr>\n",
       "    <tr>\n",
       "      <th>2</th>\n",
       "      <td>2</td>\n",
       "      <td>17</td>\n",
       "      <td>4319</td>\n",
       "      <td>1325.216860</td>\n",
       "      <td>780.0</td>\n",
       "      <td>5697.0</td>\n",
       "      <td>1981.23</td>\n",
       "      <td>280719.08</td>\n",
       "      <td>70.37</td>\n",
       "      <td>9970.90</td>\n",
       "      <td>...</td>\n",
       "      <td>Services</td>\n",
       "      <td>Imaterial services</td>\n",
       "      <td>Travel Agency</td>\n",
       "      <td>2339819.57</td>\n",
       "      <td>140492.0</td>\n",
       "      <td>72.0</td>\n",
       "      <td>18000.0</td>\n",
       "      <td>980.0</td>\n",
       "      <td>11957.0</td>\n",
       "      <td>6337.0</td>\n",
       "    </tr>\n",
       "    <tr>\n",
       "      <th>3</th>\n",
       "      <td>3</td>\n",
       "      <td>36</td>\n",
       "      <td>1201</td>\n",
       "      <td>621.422549</td>\n",
       "      <td>240.0</td>\n",
       "      <td>7179.0</td>\n",
       "      <td>29753.50</td>\n",
       "      <td>751216.75</td>\n",
       "      <td>1226.95</td>\n",
       "      <td>30978.01</td>\n",
       "      <td>...</td>\n",
       "      <td>Food &amp; Beverage Services</td>\n",
       "      <td>Sweet moments</td>\n",
       "      <td>Confectionery</td>\n",
       "      <td>1129538.00</td>\n",
       "      <td>89064.0</td>\n",
       "      <td>107.0</td>\n",
       "      <td>80035.0</td>\n",
       "      <td>5038.0</td>\n",
       "      <td>11957.0</td>\n",
       "      <td>24846.0</td>\n",
       "    </tr>\n",
       "    <tr>\n",
       "      <th>4</th>\n",
       "      <td>4</td>\n",
       "      <td>36</td>\n",
       "      <td>1212</td>\n",
       "      <td>217.833860</td>\n",
       "      <td>120.0</td>\n",
       "      <td>7288.0</td>\n",
       "      <td>6082.50</td>\n",
       "      <td>357884.00</td>\n",
       "      <td>253.44</td>\n",
       "      <td>14911.83</td>\n",
       "      <td>...</td>\n",
       "      <td>Fashion apparel</td>\n",
       "      <td>Men's Fashion</td>\n",
       "      <td>Men's Fashion</td>\n",
       "      <td>340091.00</td>\n",
       "      <td>2181010.0</td>\n",
       "      <td>208.0</td>\n",
       "      <td>69226.0</td>\n",
       "      <td>0.0</td>\n",
       "      <td>11957.0</td>\n",
       "      <td>6337.0</td>\n",
       "    </tr>\n",
       "  </tbody>\n",
       "</table>\n",
       "<p>5 rows × 30 columns</p>\n",
       "</div>"
      ],
      "text/plain": [
       "   Unnamed: 0  external_mall_id  block_id  average_dwell_time  \\\n",
       "0           0                18     11273          249.520051   \n",
       "1           1                18     11271          190.005359   \n",
       "2           2                17      4319         1325.216860   \n",
       "3           3                36      1201          621.422549   \n",
       "4           4                36      1212          217.833860   \n",
       "\n",
       "   median_dwell_time  store_id  store_visits_monthly_average  \\\n",
       "0              180.0    9257.0                       9810.25   \n",
       "1              120.0    9443.0                       4891.25   \n",
       "2              780.0    5697.0                       1981.23   \n",
       "3              240.0    7179.0                      29753.50   \n",
       "4              120.0    7288.0                       6082.50   \n",
       "\n",
       "   store_window_flow_monthly_average  store_visits_daily_average  \\\n",
       "0                          472952.50                      509.62   \n",
       "1                          362107.00                      254.09   \n",
       "2                          280719.08                       70.37   \n",
       "3                          751216.75                     1226.95   \n",
       "4                          357884.00                      253.44   \n",
       "\n",
       "   store_window_flow_daily_average  ...      store_branch_level_1  \\\n",
       "0                         24568.96  ...                 Jewellery   \n",
       "1                         18810.75  ...           Fashion apparel   \n",
       "2                          9970.90  ...                  Services   \n",
       "3                         30978.01  ...  Food & Beverage Services   \n",
       "4                         14911.83  ...           Fashion apparel   \n",
       "\n",
       "   store_branch_level_2        store_branch_level_3 store_sales_r12m  \\\n",
       "0   Jewellery & Watches  Modern Jewellery & Watches        886377.00   \n",
       "1        Family Fashion              Family Fashion      20883319.00   \n",
       "2    Imaterial services               Travel Agency       2339819.57   \n",
       "3         Sweet moments               Confectionery       1129538.00   \n",
       "4         Men's Fashion               Men's Fashion        340091.00   \n",
       "\n",
       "  store_rent_r12m  store_area  service_charges_r12m marketing_costs_r12m  \\\n",
       "0             NaN       104.0               25034.0                  0.0   \n",
       "1             NaN       203.0               33465.0                  0.0   \n",
       "2        140492.0        72.0               18000.0                980.0   \n",
       "3         89064.0       107.0               80035.0               5038.0   \n",
       "4       2181010.0       208.0               69226.0                  0.0   \n",
       "\n",
       "  real_estate_taxes_r12m maintenance_works_r12m  \n",
       "0                11957.0                 6337.0  \n",
       "1                11957.0                 6337.0  \n",
       "2                11957.0                 6337.0  \n",
       "3                11957.0                24846.0  \n",
       "4                11957.0                 6337.0  \n",
       "\n",
       "[5 rows x 30 columns]"
      ]
     },
     "execution_count": 337,
     "metadata": {},
     "output_type": "execute_result"
    }
   ],
   "source": [
    "data = pd.read_csv('cleaned_data.csv')\n",
    "data.head(5)"
   ]
  },
  {
   "cell_type": "code",
   "execution_count": 338,
   "metadata": {},
   "outputs": [
    {
     "data": {
      "text/plain": [
       "Index(['Unnamed: 0', 'external_mall_id', 'block_id', 'average_dwell_time',\n",
       "       'median_dwell_time', 'store_id', 'store_visits_monthly_average',\n",
       "       'store_window_flow_monthly_average', 'store_visits_daily_average',\n",
       "       'store_window_flow_daily_average', 'store_total_visits',\n",
       "       'store_total_window_flow', 'days_with_traffic_data', 'mall_name',\n",
       "       'mall_country', 'mall_id', 'total_mall_area', 'store_name',\n",
       "       'store_year_opened', 'store_year_closed', 'store_branch_level_1',\n",
       "       'store_branch_level_2', 'store_branch_level_3', 'store_sales_r12m',\n",
       "       'store_rent_r12m', 'store_area', 'service_charges_r12m',\n",
       "       'marketing_costs_r12m', 'real_estate_taxes_r12m',\n",
       "       'maintenance_works_r12m'],\n",
       "      dtype='object')"
      ]
     },
     "execution_count": 338,
     "metadata": {},
     "output_type": "execute_result"
    }
   ],
   "source": [
    "data.columns"
   ]
  },
  {
   "cell_type": "markdown",
   "metadata": {},
   "source": [
    "# further cleaning"
   ]
  },
  {
   "cell_type": "markdown",
   "metadata": {},
   "source": [
    "## cost"
   ]
  },
  {
   "cell_type": "code",
   "execution_count": 339,
   "metadata": {},
   "outputs": [
    {
     "data": {
      "text/plain": [
       "service_charges_r12m     -86042.0\n",
       "marketing_costs_r12m     -41943.0\n",
       "real_estate_taxes_r12m   -16695.0\n",
       "maintenance_works_r12m        0.0\n",
       "dtype: float64"
      ]
     },
     "execution_count": 339,
     "metadata": {},
     "output_type": "execute_result"
    }
   ],
   "source": [
    "cost_cols = ['service_charges_r12m', 'marketing_costs_r12m', 'real_estate_taxes_r12m', 'maintenance_works_r12m']\n",
    "data[cost_cols].min(axis=0)\n",
    "# negative values should not exist, we determine to use 0 to replace them."
   ]
  },
  {
   "cell_type": "code",
   "execution_count": 340,
   "metadata": {},
   "outputs": [
    {
     "name": "stdout",
     "output_type": "stream",
     "text": [
      "percentage(%) of negative values\n",
      "service_charges_r12m      1.673066\n",
      "marketing_costs_r12m      0.246846\n",
      "real_estate_taxes_r12m    0.054855\n",
      "maintenance_works_r12m    0.000000\n",
      "dtype: float64\n"
     ]
    }
   ],
   "source": [
    "print(f\"percentage(%) of negative values\\n{((data[cost_cols]<0).sum(axis=0)/data.shape[0])*100}\")"
   ]
  },
  {
   "cell_type": "markdown",
   "metadata": {},
   "source": [
    "it's okay to directly drop them, not many"
   ]
  },
  {
   "cell_type": "code",
   "execution_count": 341,
   "metadata": {},
   "outputs": [
    {
     "name": "stdout",
     "output_type": "stream",
     "text": [
      "to dorp 1.9747668678003292%\n"
     ]
    }
   ],
   "source": [
    "print(f\"to dorp {((data[cost_cols] < 0).any(axis=1).sum()/data.shape[0]) * 100}%\")"
   ]
  },
  {
   "cell_type": "code",
   "execution_count": 342,
   "metadata": {},
   "outputs": [],
   "source": [
    "data = data.loc[~(data[cost_cols] < 0).any(axis=1)]"
   ]
  },
  {
   "cell_type": "code",
   "execution_count": 343,
   "metadata": {},
   "outputs": [
    {
     "name": "stderr",
     "output_type": "stream",
     "text": [
      "/var/folders/z9/zf5v62yj5_75v0dwqpq9c7nw0000gn/T/ipykernel_84205/2867994817.py:2: FutureWarning: DataFrame.applymap has been deprecated. Use DataFrame.map instead.\n",
      "  data[cost_cols] = data[cost_cols].applymap(lambda x:max(x, 0))\n"
     ]
    }
   ],
   "source": [
    "# replace them with zero\n",
    "data[cost_cols] = data[cost_cols].applymap(lambda x:max(x, 0))\n",
    "data['total_costs_r12m'] = data[cost_cols].sum(axis=1)"
   ]
  },
  {
   "cell_type": "markdown",
   "metadata": {},
   "source": [
    "## visitor"
   ]
  },
  {
   "cell_type": "code",
   "execution_count": 344,
   "metadata": {},
   "outputs": [
    {
     "data": {
      "text/plain": [
       "count      3574.000000\n",
       "mean      21500.184063\n",
       "std       33539.946814\n",
       "min           0.000000\n",
       "25%        4745.547500\n",
       "50%       10213.460000\n",
       "75%       23601.375000\n",
       "max      444736.540000\n",
       "Name: store_visits_monthly_average, dtype: float64"
      ]
     },
     "execution_count": 344,
     "metadata": {},
     "output_type": "execute_result"
    }
   ],
   "source": [
    "data['store_visits_monthly_average'].describe()"
   ]
  },
  {
   "cell_type": "code",
   "execution_count": 345,
   "metadata": {},
   "outputs": [
    {
     "data": {
      "text/plain": [
       "np.int64(5)"
      ]
     },
     "execution_count": 345,
     "metadata": {},
     "output_type": "execute_result"
    }
   ],
   "source": [
    "(data['store_visits_monthly_average'] == 0).sum()\n",
    "# directly drop"
   ]
  },
  {
   "cell_type": "markdown",
   "metadata": {},
   "source": [
    "there're zero observations"
   ]
  },
  {
   "cell_type": "code",
   "execution_count": 346,
   "metadata": {},
   "outputs": [
    {
     "data": {
      "text/plain": [
       "(3574, 31)"
      ]
     },
     "execution_count": 346,
     "metadata": {},
     "output_type": "execute_result"
    }
   ],
   "source": [
    "data.shape"
   ]
  },
  {
   "cell_type": "code",
   "execution_count": 347,
   "metadata": {},
   "outputs": [
    {
     "data": {
      "text/plain": [
       "(3569, 31)"
      ]
     },
     "execution_count": 347,
     "metadata": {},
     "output_type": "execute_result"
    }
   ],
   "source": [
    "data.drop(data[data['store_visits_monthly_average']==0].index).shape"
   ]
  },
  {
   "cell_type": "code",
   "execution_count": 348,
   "metadata": {},
   "outputs": [],
   "source": [
    "data = data.drop(data[data['store_visits_monthly_average']==0].index)"
   ]
  },
  {
   "cell_type": "markdown",
   "metadata": {},
   "source": [
    "## area"
   ]
  },
  {
   "cell_type": "code",
   "execution_count": 349,
   "metadata": {},
   "outputs": [
    {
     "data": {
      "text/plain": [
       "np.float64(0.0)"
      ]
     },
     "execution_count": 349,
     "metadata": {},
     "output_type": "execute_result"
    }
   ],
   "source": [
    "data['store_area'].min()\n",
    "# area is 0, that's no way"
   ]
  },
  {
   "cell_type": "code",
   "execution_count": 350,
   "metadata": {},
   "outputs": [
    {
     "data": {
      "text/plain": [
       "np.float64(0.09106192210703279)"
      ]
     },
     "execution_count": 350,
     "metadata": {},
     "output_type": "execute_result"
    }
   ],
   "source": [
    "(data['store_area'] == 0).sum()/data.shape[0]\n",
    "# 10 percent\n",
    "# too much, in case of generating outliers, using the median value to fill it"
   ]
  },
  {
   "cell_type": "code",
   "execution_count": 351,
   "metadata": {},
   "outputs": [
    {
     "data": {
      "text/plain": [
       "np.float64(160.0)"
      ]
     },
     "execution_count": 351,
     "metadata": {},
     "output_type": "execute_result"
    }
   ],
   "source": [
    "data['store_area'].median()"
   ]
  },
  {
   "cell_type": "code",
   "execution_count": 352,
   "metadata": {},
   "outputs": [
    {
     "data": {
      "text/plain": [
       "634      7.3\n",
       "1004    14.0\n",
       "926     14.2\n",
       "207     15.0\n",
       "3166    15.0\n",
       "Name: store_area, dtype: float64"
      ]
     },
     "execution_count": 352,
     "metadata": {},
     "output_type": "execute_result"
    }
   ],
   "source": [
    "data.loc[data['store_area']!=0, 'store_area'].sort_values().head(5)"
   ]
  },
  {
   "cell_type": "code",
   "execution_count": 353,
   "metadata": {},
   "outputs": [],
   "source": [
    "data['store_area'] = data['store_area'].apply(lambda x: 160 if x<=0 else x)"
   ]
  },
  {
   "cell_type": "markdown",
   "metadata": {},
   "source": [
    "## sales value"
   ]
  },
  {
   "cell_type": "code",
   "execution_count": 354,
   "metadata": {},
   "outputs": [
    {
     "data": {
      "text/plain": [
       "np.int64(4)"
      ]
     },
     "execution_count": 354,
     "metadata": {},
     "output_type": "execute_result"
    }
   ],
   "source": [
    "(data['store_sales_r12m']==0).sum()"
   ]
  },
  {
   "cell_type": "code",
   "execution_count": 355,
   "metadata": {},
   "outputs": [],
   "source": [
    "data = data.loc[data['store_sales_r12m']!=0]"
   ]
  },
  {
   "cell_type": "markdown",
   "metadata": {},
   "source": [
    "# metrics"
   ]
  },
  {
   "cell_type": "code",
   "execution_count": 356,
   "metadata": {},
   "outputs": [],
   "source": [
    "identity = ['store_id', 'block_id', 'mall_id', 'external_mall_id']\n",
    "metrics = data[identity]"
   ]
  },
  {
   "cell_type": "markdown",
   "metadata": {},
   "source": [
    "make them based on month"
   ]
  },
  {
   "cell_type": "markdown",
   "metadata": {},
   "source": [
    "## traffic"
   ]
  },
  {
   "cell_type": "markdown",
   "metadata": {},
   "source": [
    "### traffic cost efficiency"
   ]
  },
  {
   "cell_type": "code",
   "execution_count": 357,
   "metadata": {},
   "outputs": [
    {
     "name": "stderr",
     "output_type": "stream",
     "text": [
      "/var/folders/z9/zf5v62yj5_75v0dwqpq9c7nw0000gn/T/ipykernel_84205/2077493001.py:2: SettingWithCopyWarning: \n",
      "A value is trying to be set on a copy of a slice from a DataFrame.\n",
      "Try using .loc[row_indexer,col_indexer] = value instead\n",
      "\n",
      "See the caveats in the documentation: https://pandas.pydata.org/pandas-docs/stable/user_guide/indexing.html#returning-a-view-versus-a-copy\n",
      "  metrics['tfc_cst_efc'] = data['store_window_flow_monthly_average']/(data['total_costs_r12m']/12)\n"
     ]
    }
   ],
   "source": [
    "# traffic cost efficiency\n",
    "metrics['tfc_cst_efc'] = data['store_window_flow_monthly_average']/(data['total_costs_r12m']/12) "
   ]
  },
  {
   "cell_type": "markdown",
   "metadata": {},
   "source": [
    "### visit rate"
   ]
  },
  {
   "cell_type": "code",
   "execution_count": 358,
   "metadata": {},
   "outputs": [
    {
     "name": "stderr",
     "output_type": "stream",
     "text": [
      "/var/folders/z9/zf5v62yj5_75v0dwqpq9c7nw0000gn/T/ipykernel_84205/1795006489.py:3: SettingWithCopyWarning: \n",
      "A value is trying to be set on a copy of a slice from a DataFrame.\n",
      "Try using .loc[row_indexer,col_indexer] = value instead\n",
      "\n",
      "See the caveats in the documentation: https://pandas.pydata.org/pandas-docs/stable/user_guide/indexing.html#returning-a-view-versus-a-copy\n",
      "  metrics['monthly_visit/window'] = data['store_visits_monthly_average'] / data['store_window_flow_monthly_average']\n",
      "/var/folders/z9/zf5v62yj5_75v0dwqpq9c7nw0000gn/T/ipykernel_84205/1795006489.py:4: SettingWithCopyWarning: \n",
      "A value is trying to be set on a copy of a slice from a DataFrame.\n",
      "Try using .loc[row_indexer,col_indexer] = value instead\n",
      "\n",
      "See the caveats in the documentation: https://pandas.pydata.org/pandas-docs/stable/user_guide/indexing.html#returning-a-view-versus-a-copy\n",
      "  metrics['daily_visit/window'] = data['store_visits_daily_average'] / data['store_window_flow_daily_average']\n",
      "/var/folders/z9/zf5v62yj5_75v0dwqpq9c7nw0000gn/T/ipykernel_84205/1795006489.py:5: SettingWithCopyWarning: \n",
      "A value is trying to be set on a copy of a slice from a DataFrame.\n",
      "Try using .loc[row_indexer,col_indexer] = value instead\n",
      "\n",
      "See the caveats in the documentation: https://pandas.pydata.org/pandas-docs/stable/user_guide/indexing.html#returning-a-view-versus-a-copy\n",
      "  metrics['total_visit/window'] = data['store_total_visits'] / data['store_total_window_flow']\n"
     ]
    }
   ],
   "source": [
    "# visit rate\n",
    "# there are monthly, daily and total \n",
    "metrics['monthly_visit/window'] = data['store_visits_monthly_average'] / data['store_window_flow_monthly_average']\n",
    "metrics['daily_visit/window'] = data['store_visits_daily_average'] / data['store_window_flow_daily_average']\n",
    "metrics['total_visit/window'] = data['store_total_visits'] / data['store_total_window_flow']"
   ]
  },
  {
   "cell_type": "code",
   "execution_count": 359,
   "metadata": {},
   "outputs": [
    {
     "name": "stderr",
     "output_type": "stream",
     "text": [
      "/var/folders/z9/zf5v62yj5_75v0dwqpq9c7nw0000gn/T/ipykernel_84205/1917769999.py:3: SettingWithCopyWarning: \n",
      "A value is trying to be set on a copy of a slice from a DataFrame\n",
      "\n",
      "See the caveats in the documentation: https://pandas.pydata.org/pandas-docs/stable/user_guide/indexing.html#returning-a-view-versus-a-copy\n",
      "  metrics.drop(['daily_visit/window', 'total_visit/window'], axis=1, inplace=True)\n",
      "/var/folders/z9/zf5v62yj5_75v0dwqpq9c7nw0000gn/T/ipykernel_84205/1917769999.py:4: SettingWithCopyWarning: \n",
      "A value is trying to be set on a copy of a slice from a DataFrame\n",
      "\n",
      "See the caveats in the documentation: https://pandas.pydata.org/pandas-docs/stable/user_guide/indexing.html#returning-a-view-versus-a-copy\n",
      "  metrics.rename(columns={'monthly_visit/window':'visit_rate'}, inplace=True)\n"
     ]
    }
   ],
   "source": [
    "metrics.head(10)\n",
    "# since they are almost the same, we only keep one\n",
    "metrics.drop(['daily_visit/window', 'total_visit/window'], axis=1, inplace=True)\n",
    "metrics.rename(columns={'monthly_visit/window':'visit_rate'}, inplace=True)"
   ]
  },
  {
   "cell_type": "markdown",
   "metadata": {},
   "source": [
    "## Sales"
   ]
  },
  {
   "cell_type": "markdown",
   "metadata": {},
   "source": [
    "### revenue per visitor"
   ]
  },
  {
   "cell_type": "code",
   "execution_count": 360,
   "metadata": {},
   "outputs": [
    {
     "name": "stderr",
     "output_type": "stream",
     "text": [
      "/var/folders/z9/zf5v62yj5_75v0dwqpq9c7nw0000gn/T/ipykernel_84205/2476251328.py:3: SettingWithCopyWarning: \n",
      "A value is trying to be set on a copy of a slice from a DataFrame.\n",
      "Try using .loc[row_indexer,col_indexer] = value instead\n",
      "\n",
      "See the caveats in the documentation: https://pandas.pydata.org/pandas-docs/stable/user_guide/indexing.html#returning-a-view-versus-a-copy\n",
      "  metrics['RPV'] = (data['store_sales_r12m']/12)/data['store_visits_monthly_average']\n"
     ]
    }
   ],
   "source": [
    "# revenue per visit\n",
    "# time unit, month\n",
    "metrics['RPV'] = (data['store_sales_r12m']/12)/data['store_visits_monthly_average']"
   ]
  },
  {
   "cell_type": "markdown",
   "metadata": {},
   "source": [
    "### revenue per m2"
   ]
  },
  {
   "cell_type": "code",
   "execution_count": 361,
   "metadata": {},
   "outputs": [
    {
     "name": "stderr",
     "output_type": "stream",
     "text": [
      "/var/folders/z9/zf5v62yj5_75v0dwqpq9c7nw0000gn/T/ipykernel_84205/3968750639.py:3: SettingWithCopyWarning: \n",
      "A value is trying to be set on a copy of a slice from a DataFrame.\n",
      "Try using .loc[row_indexer,col_indexer] = value instead\n",
      "\n",
      "See the caveats in the documentation: https://pandas.pydata.org/pandas-docs/stable/user_guide/indexing.html#returning-a-view-versus-a-copy\n",
      "  metrics['RPM'] = (data['store_sales_r12m']/12)/data['store_area']\n"
     ]
    }
   ],
   "source": [
    "# revenue per m2\n",
    "# RPM \n",
    "metrics['RPM'] = (data['store_sales_r12m']/12)/data['store_area']"
   ]
  },
  {
   "cell_type": "markdown",
   "metadata": {},
   "source": [
    "### revenue efficiency"
   ]
  },
  {
   "cell_type": "code",
   "execution_count": 362,
   "metadata": {},
   "outputs": [
    {
     "name": "stderr",
     "output_type": "stream",
     "text": [
      "/var/folders/z9/zf5v62yj5_75v0dwqpq9c7nw0000gn/T/ipykernel_84205/3601272623.py:2: SettingWithCopyWarning: \n",
      "A value is trying to be set on a copy of a slice from a DataFrame.\n",
      "Try using .loc[row_indexer,col_indexer] = value instead\n",
      "\n",
      "See the caveats in the documentation: https://pandas.pydata.org/pandas-docs/stable/user_guide/indexing.html#returning-a-view-versus-a-copy\n",
      "  metrics['RE'] = data['store_sales_r12m']/data['total_costs_r12m']\n"
     ]
    }
   ],
   "source": [
    "# Rvenue efficiency\n",
    "metrics['RE'] = data['store_sales_r12m']/data['total_costs_r12m']"
   ]
  },
  {
   "cell_type": "code",
   "execution_count": 363,
   "metadata": {},
   "outputs": [
    {
     "data": {
      "text/plain": [
       "2174    0.001609\n",
       "1657    0.012399\n",
       "2923    0.032193\n",
       "1534    0.061527\n",
       "1263    0.071061\n",
       "          ...   \n",
       "3628         NaN\n",
       "3639         NaN\n",
       "3640         NaN\n",
       "3641         NaN\n",
       "3643         NaN\n",
       "Name: RE, Length: 3565, dtype: float64"
      ]
     },
     "execution_count": 363,
     "metadata": {},
     "output_type": "execute_result"
    }
   ],
   "source": [
    "metrics['RE'].sort_values()"
   ]
  },
  {
   "cell_type": "code",
   "execution_count": 364,
   "metadata": {},
   "outputs": [
    {
     "data": {
      "text/plain": [
       "Index(['Unnamed: 0', 'external_mall_id', 'block_id', 'average_dwell_time',\n",
       "       'median_dwell_time', 'store_id', 'store_visits_monthly_average',\n",
       "       'store_window_flow_monthly_average', 'store_visits_daily_average',\n",
       "       'store_window_flow_daily_average', 'store_total_visits',\n",
       "       'store_total_window_flow', 'days_with_traffic_data', 'mall_name',\n",
       "       'mall_country', 'mall_id', 'total_mall_area', 'store_name',\n",
       "       'store_year_opened', 'store_year_closed', 'store_branch_level_1',\n",
       "       'store_branch_level_2', 'store_branch_level_3', 'store_sales_r12m',\n",
       "       'store_rent_r12m', 'store_area', 'service_charges_r12m',\n",
       "       'marketing_costs_r12m', 'real_estate_taxes_r12m',\n",
       "       'maintenance_works_r12m', 'total_costs_r12m'],\n",
       "      dtype='object')"
      ]
     },
     "execution_count": 364,
     "metadata": {},
     "output_type": "execute_result"
    }
   ],
   "source": [
    "data.columns"
   ]
  },
  {
   "cell_type": "markdown",
   "metadata": {},
   "source": [
    "## cost"
   ]
  },
  {
   "cell_type": "markdown",
   "metadata": {},
   "source": [
    "### cost per m2"
   ]
  },
  {
   "cell_type": "code",
   "execution_count": 365,
   "metadata": {},
   "outputs": [
    {
     "name": "stderr",
     "output_type": "stream",
     "text": [
      "/var/folders/z9/zf5v62yj5_75v0dwqpq9c7nw0000gn/T/ipykernel_84205/2759233445.py:2: SettingWithCopyWarning: \n",
      "A value is trying to be set on a copy of a slice from a DataFrame.\n",
      "Try using .loc[row_indexer,col_indexer] = value instead\n",
      "\n",
      "See the caveats in the documentation: https://pandas.pydata.org/pandas-docs/stable/user_guide/indexing.html#returning-a-view-versus-a-copy\n",
      "  metrics['CPM'] = (data['total_costs_r12m']/12)/data['store_area']\n"
     ]
    }
   ],
   "source": [
    "# cost per m2\n",
    "metrics['CPM'] = (data['total_costs_r12m']/12)/data['store_area']"
   ]
  },
  {
   "cell_type": "markdown",
   "metadata": {},
   "source": [
    "### profit margin"
   ]
  },
  {
   "cell_type": "code",
   "execution_count": 366,
   "metadata": {},
   "outputs": [
    {
     "name": "stderr",
     "output_type": "stream",
     "text": [
      "/var/folders/z9/zf5v62yj5_75v0dwqpq9c7nw0000gn/T/ipykernel_84205/1555608295.py:2: SettingWithCopyWarning: \n",
      "A value is trying to be set on a copy of a slice from a DataFrame.\n",
      "Try using .loc[row_indexer,col_indexer] = value instead\n",
      "\n",
      "See the caveats in the documentation: https://pandas.pydata.org/pandas-docs/stable/user_guide/indexing.html#returning-a-view-versus-a-copy\n",
      "  metrics['PM'] = (data['store_sales_r12m']-data['total_costs_r12m'])/data['store_sales_r12m']\n"
     ]
    }
   ],
   "source": [
    "# profit margin \n",
    "metrics['PM'] = (data['store_sales_r12m']-data['total_costs_r12m'])/data['store_sales_r12m']"
   ]
  },
  {
   "cell_type": "markdown",
   "metadata": {},
   "source": [
    "## engagement"
   ]
  },
  {
   "cell_type": "code",
   "execution_count": 367,
   "metadata": {},
   "outputs": [
    {
     "name": "stderr",
     "output_type": "stream",
     "text": [
      "/var/folders/z9/zf5v62yj5_75v0dwqpq9c7nw0000gn/T/ipykernel_84205/2825203873.py:2: SettingWithCopyWarning: \n",
      "A value is trying to be set on a copy of a slice from a DataFrame.\n",
      "Try using .loc[row_indexer,col_indexer] = value instead\n",
      "\n",
      "See the caveats in the documentation: https://pandas.pydata.org/pandas-docs/stable/user_guide/indexing.html#returning-a-view-versus-a-copy\n",
      "  metrics['Space_u'] = data['median_dwell_time']/data['store_area']\n"
     ]
    }
   ],
   "source": [
    "# using median dwell in case outlier effect\n",
    "metrics['Space_u'] = data['median_dwell_time']/data['store_area']"
   ]
  },
  {
   "cell_type": "code",
   "execution_count": 368,
   "metadata": {},
   "outputs": [
    {
     "data": {
      "text/html": [
       "<div>\n",
       "<style scoped>\n",
       "    .dataframe tbody tr th:only-of-type {\n",
       "        vertical-align: middle;\n",
       "    }\n",
       "\n",
       "    .dataframe tbody tr th {\n",
       "        vertical-align: top;\n",
       "    }\n",
       "\n",
       "    .dataframe thead th {\n",
       "        text-align: right;\n",
       "    }\n",
       "</style>\n",
       "<table border=\"1\" class=\"dataframe\">\n",
       "  <thead>\n",
       "    <tr style=\"text-align: right;\">\n",
       "      <th></th>\n",
       "      <th>store_id</th>\n",
       "      <th>block_id</th>\n",
       "      <th>mall_id</th>\n",
       "      <th>external_mall_id</th>\n",
       "      <th>tfc_cst_efc</th>\n",
       "      <th>visit_rate</th>\n",
       "      <th>RPV</th>\n",
       "      <th>RPM</th>\n",
       "      <th>RE</th>\n",
       "      <th>CPM</th>\n",
       "      <th>PM</th>\n",
       "      <th>Space_u</th>\n",
       "    </tr>\n",
       "  </thead>\n",
       "  <tbody>\n",
       "    <tr>\n",
       "      <th>0</th>\n",
       "      <td>9257.0</td>\n",
       "      <td>11273</td>\n",
       "      <td>54.0</td>\n",
       "      <td>18</td>\n",
       "      <td>130.987583</td>\n",
       "      <td>0.020743</td>\n",
       "      <td>7.529344</td>\n",
       "      <td>710.237981</td>\n",
       "      <td>20.457372</td>\n",
       "      <td>34.717949</td>\n",
       "      <td>0.951118</td>\n",
       "      <td>1.730769</td>\n",
       "    </tr>\n",
       "    <tr>\n",
       "      <th>1</th>\n",
       "      <td>9443.0</td>\n",
       "      <td>11271</td>\n",
       "      <td>54.0</td>\n",
       "      <td>18</td>\n",
       "      <td>83.952240</td>\n",
       "      <td>0.013508</td>\n",
       "      <td>355.793833</td>\n",
       "      <td>8572.791051</td>\n",
       "      <td>403.472227</td>\n",
       "      <td>21.247537</td>\n",
       "      <td>0.997522</td>\n",
       "      <td>0.591133</td>\n",
       "    </tr>\n",
       "    <tr>\n",
       "      <th>2</th>\n",
       "      <td>5697.0</td>\n",
       "      <td>4319</td>\n",
       "      <td>15.0</td>\n",
       "      <td>17</td>\n",
       "      <td>90.374764</td>\n",
       "      <td>0.007058</td>\n",
       "      <td>98.416117</td>\n",
       "      <td>2708.124502</td>\n",
       "      <td>62.773504</td>\n",
       "      <td>43.141204</td>\n",
       "      <td>0.984070</td>\n",
       "      <td>10.833333</td>\n",
       "    </tr>\n",
       "    <tr>\n",
       "      <th>3</th>\n",
       "      <td>7179.0</td>\n",
       "      <td>1201</td>\n",
       "      <td>35.0</td>\n",
       "      <td>36</td>\n",
       "      <td>73.965350</td>\n",
       "      <td>0.039607</td>\n",
       "      <td>3.163600</td>\n",
       "      <td>879.702492</td>\n",
       "      <td>9.267928</td>\n",
       "      <td>94.919003</td>\n",
       "      <td>0.892101</td>\n",
       "      <td>2.242991</td>\n",
       "    </tr>\n",
       "    <tr>\n",
       "      <th>4</th>\n",
       "      <td>7288.0</td>\n",
       "      <td>1212</td>\n",
       "      <td>35.0</td>\n",
       "      <td>36</td>\n",
       "      <td>49.070018</td>\n",
       "      <td>0.016996</td>\n",
       "      <td>4.659419</td>\n",
       "      <td>136.254407</td>\n",
       "      <td>3.885866</td>\n",
       "      <td>35.064103</td>\n",
       "      <td>0.742657</td>\n",
       "      <td>0.576923</td>\n",
       "    </tr>\n",
       "  </tbody>\n",
       "</table>\n",
       "</div>"
      ],
      "text/plain": [
       "   store_id  block_id  mall_id  external_mall_id  tfc_cst_efc  visit_rate  \\\n",
       "0    9257.0     11273     54.0                18   130.987583    0.020743   \n",
       "1    9443.0     11271     54.0                18    83.952240    0.013508   \n",
       "2    5697.0      4319     15.0                17    90.374764    0.007058   \n",
       "3    7179.0      1201     35.0                36    73.965350    0.039607   \n",
       "4    7288.0      1212     35.0                36    49.070018    0.016996   \n",
       "\n",
       "          RPV          RPM          RE        CPM        PM    Space_u  \n",
       "0    7.529344   710.237981   20.457372  34.717949  0.951118   1.730769  \n",
       "1  355.793833  8572.791051  403.472227  21.247537  0.997522   0.591133  \n",
       "2   98.416117  2708.124502   62.773504  43.141204  0.984070  10.833333  \n",
       "3    3.163600   879.702492    9.267928  94.919003  0.892101   2.242991  \n",
       "4    4.659419   136.254407    3.885866  35.064103  0.742657   0.576923  "
      ]
     },
     "execution_count": 368,
     "metadata": {},
     "output_type": "execute_result"
    }
   ],
   "source": [
    "metrics.head(5)"
   ]
  },
  {
   "cell_type": "code",
   "execution_count": 369,
   "metadata": {},
   "outputs": [
    {
     "data": {
      "text/plain": [
       "store_id              0\n",
       "block_id              0\n",
       "mall_id               0\n",
       "external_mall_id      0\n",
       "tfc_cst_efc           0\n",
       "visit_rate            0\n",
       "RPV                 869\n",
       "RPM                 869\n",
       "RE                  869\n",
       "CPM                   0\n",
       "PM                  869\n",
       "Space_u               0\n",
       "dtype: int64"
      ]
     },
     "execution_count": 369,
     "metadata": {},
     "output_type": "execute_result"
    }
   ],
   "source": [
    "metrics.isna().sum(axis=0)"
   ]
  },
  {
   "cell_type": "markdown",
   "metadata": {},
   "source": [
    "# comprehensive metric"
   ]
  },
  {
   "cell_type": "code",
   "execution_count": 370,
   "metadata": {},
   "outputs": [
    {
     "data": {
      "text/plain": [
       "Index(['store_id', 'block_id', 'mall_id', 'external_mall_id', 'tfc_cst_efc',\n",
       "       'visit_rate', 'RPV', 'RPM', 'RE', 'CPM', 'PM', 'Space_u'],\n",
       "      dtype='object')"
      ]
     },
     "execution_count": 370,
     "metadata": {},
     "output_type": "execute_result"
    }
   ],
   "source": [
    "metrics.columns"
   ]
  },
  {
   "cell_type": "code",
   "execution_count": 371,
   "metadata": {},
   "outputs": [
    {
     "data": {
      "text/html": [
       "<div>\n",
       "<style scoped>\n",
       "    .dataframe tbody tr th:only-of-type {\n",
       "        vertical-align: middle;\n",
       "    }\n",
       "\n",
       "    .dataframe tbody tr th {\n",
       "        vertical-align: top;\n",
       "    }\n",
       "\n",
       "    .dataframe thead th {\n",
       "        text-align: right;\n",
       "    }\n",
       "</style>\n",
       "<table border=\"1\" class=\"dataframe\">\n",
       "  <thead>\n",
       "    <tr style=\"text-align: right;\">\n",
       "      <th></th>\n",
       "      <th>tfc_cst_efc</th>\n",
       "      <th>visit_rate</th>\n",
       "      <th>RPV</th>\n",
       "      <th>RPM</th>\n",
       "      <th>RE</th>\n",
       "      <th>CPM</th>\n",
       "      <th>PM</th>\n",
       "      <th>Space_u</th>\n",
       "    </tr>\n",
       "  </thead>\n",
       "  <tbody>\n",
       "    <tr>\n",
       "      <th>count</th>\n",
       "      <td>3565.000000</td>\n",
       "      <td>3565.000000</td>\n",
       "      <td>2696.000000</td>\n",
       "      <td>2696.000000</td>\n",
       "      <td>2696.000000</td>\n",
       "      <td>3565.000000</td>\n",
       "      <td>2696.000000</td>\n",
       "      <td>3565.000000</td>\n",
       "    </tr>\n",
       "    <tr>\n",
       "      <th>mean</th>\n",
       "      <td>183.556293</td>\n",
       "      <td>0.038342</td>\n",
       "      <td>72.617138</td>\n",
       "      <td>3131.268222</td>\n",
       "      <td>133.297128</td>\n",
       "      <td>56.539222</td>\n",
       "      <td>0.506107</td>\n",
       "      <td>3.419174</td>\n",
       "    </tr>\n",
       "    <tr>\n",
       "      <th>std</th>\n",
       "      <td>216.508886</td>\n",
       "      <td>0.055595</td>\n",
       "      <td>334.382879</td>\n",
       "      <td>11163.078715</td>\n",
       "      <td>536.926978</td>\n",
       "      <td>159.972278</td>\n",
       "      <td>12.107151</td>\n",
       "      <td>6.137240</td>\n",
       "    </tr>\n",
       "    <tr>\n",
       "      <th>min</th>\n",
       "      <td>0.582914</td>\n",
       "      <td>0.000338</td>\n",
       "      <td>0.003685</td>\n",
       "      <td>0.396387</td>\n",
       "      <td>0.001609</td>\n",
       "      <td>0.136030</td>\n",
       "      <td>-620.374000</td>\n",
       "      <td>0.023414</td>\n",
       "    </tr>\n",
       "    <tr>\n",
       "      <th>25%</th>\n",
       "      <td>61.475196</td>\n",
       "      <td>0.009581</td>\n",
       "      <td>2.893680</td>\n",
       "      <td>169.087922</td>\n",
       "      <td>7.917044</td>\n",
       "      <td>10.961979</td>\n",
       "      <td>0.873689</td>\n",
       "      <td>0.782269</td>\n",
       "    </tr>\n",
       "    <tr>\n",
       "      <th>50%</th>\n",
       "      <td>122.875103</td>\n",
       "      <td>0.019243</td>\n",
       "      <td>9.566621</td>\n",
       "      <td>535.739046</td>\n",
       "      <td>22.482203</td>\n",
       "      <td>23.452070</td>\n",
       "      <td>0.955520</td>\n",
       "      <td>1.512605</td>\n",
       "    </tr>\n",
       "    <tr>\n",
       "      <th>75%</th>\n",
       "      <td>232.253684</td>\n",
       "      <td>0.042927</td>\n",
       "      <td>32.011828</td>\n",
       "      <td>1683.737958</td>\n",
       "      <td>66.371001</td>\n",
       "      <td>52.822125</td>\n",
       "      <td>0.984933</td>\n",
       "      <td>3.428571</td>\n",
       "    </tr>\n",
       "    <tr>\n",
       "      <th>max</th>\n",
       "      <td>4484.618035</td>\n",
       "      <td>0.790122</td>\n",
       "      <td>9634.972150</td>\n",
       "      <td>169864.125514</td>\n",
       "      <td>9772.530218</td>\n",
       "      <td>4489.553824</td>\n",
       "      <td>0.999898</td>\n",
       "      <td>104.000000</td>\n",
       "    </tr>\n",
       "  </tbody>\n",
       "</table>\n",
       "</div>"
      ],
      "text/plain": [
       "       tfc_cst_efc   visit_rate          RPV            RPM           RE  \\\n",
       "count  3565.000000  3565.000000  2696.000000    2696.000000  2696.000000   \n",
       "mean    183.556293     0.038342    72.617138    3131.268222   133.297128   \n",
       "std     216.508886     0.055595   334.382879   11163.078715   536.926978   \n",
       "min       0.582914     0.000338     0.003685       0.396387     0.001609   \n",
       "25%      61.475196     0.009581     2.893680     169.087922     7.917044   \n",
       "50%     122.875103     0.019243     9.566621     535.739046    22.482203   \n",
       "75%     232.253684     0.042927    32.011828    1683.737958    66.371001   \n",
       "max    4484.618035     0.790122  9634.972150  169864.125514  9772.530218   \n",
       "\n",
       "               CPM           PM      Space_u  \n",
       "count  3565.000000  2696.000000  3565.000000  \n",
       "mean     56.539222     0.506107     3.419174  \n",
       "std     159.972278    12.107151     6.137240  \n",
       "min       0.136030  -620.374000     0.023414  \n",
       "25%      10.961979     0.873689     0.782269  \n",
       "50%      23.452070     0.955520     1.512605  \n",
       "75%      52.822125     0.984933     3.428571  \n",
       "max    4489.553824     0.999898   104.000000  "
      ]
     },
     "execution_count": 371,
     "metadata": {},
     "output_type": "execute_result"
    }
   ],
   "source": [
    "m_cols = ['tfc_cst_efc','visit_rate', 'RPV', 'RPM', 'RE', 'CPM', 'PM', 'Space_u']\n",
    "metrics[m_cols].describe()"
   ]
  },
  {
   "cell_type": "code",
   "execution_count": null,
   "metadata": {},
   "outputs": [],
   "source": [
    "# obviously there's null values, especiall in revenue"
   ]
  },
  {
   "cell_type": "code",
   "execution_count": 374,
   "metadata": {},
   "outputs": [
    {
     "data": {
      "text/plain": [
       "store_id              0\n",
       "block_id              0\n",
       "mall_id               0\n",
       "external_mall_id      0\n",
       "tfc_cst_efc           0\n",
       "visit_rate            0\n",
       "RPV                 869\n",
       "RPM                 869\n",
       "RE                  869\n",
       "CPM                   0\n",
       "PM                  869\n",
       "Space_u               0\n",
       "dtype: int64"
      ]
     },
     "execution_count": 374,
     "metadata": {},
     "output_type": "execute_result"
    }
   ],
   "source": [
    "metrics.isna().sum(axis=0)"
   ]
  },
  {
   "cell_type": "code",
   "execution_count": null,
   "metadata": {},
   "outputs": [
    {
     "data": {
      "text/plain": [
       "store_sales_r12m    869\n",
       "store_rent_r12m     965\n",
       "dtype: int64"
      ]
     },
     "execution_count": 380,
     "metadata": {},
     "output_type": "execute_result"
    }
   ],
   "source": [
    "data.isna().sum(axis=0)[data.isna().sum(axis=0)!=0]\n",
    "# obviously the null values come from sales"
   ]
  },
  {
   "cell_type": "code",
   "execution_count": null,
   "metadata": {},
   "outputs": [],
   "source": []
  }
 ],
 "metadata": {
  "kernelspec": {
   "display_name": "foo-env",
   "language": "python",
   "name": "python3"
  },
  "language_info": {
   "codemirror_mode": {
    "name": "ipython",
    "version": 3
   },
   "file_extension": ".py",
   "mimetype": "text/x-python",
   "name": "python",
   "nbconvert_exporter": "python",
   "pygments_lexer": "ipython3",
   "version": "3.10.15"
  }
 },
 "nbformat": 4,
 "nbformat_minor": 2
}
